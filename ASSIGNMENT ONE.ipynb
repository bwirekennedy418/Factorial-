{
 "cells": [
  {
   "cell_type": "markdown",
   "id": "c0581619",
   "metadata": {},
   "source": [
    "# KENNEDY BWIRE\n",
    "# ADM NO 21/02900\n",
    "# DATA ANALYTICS AND ENGINEERING\n"
   ]
  },
  {
   "cell_type": "markdown",
   "id": "ac241284",
   "metadata": {},
   "source": [
    "#Select necessary Libraries"
   ]
  },
  {
   "cell_type": "code",
   "execution_count": 1,
   "id": "4418b8cd",
   "metadata": {},
   "outputs": [],
   "source": [
    "import pandas as pd\n",
    "import numpy as np\n",
    "import matplotlib as pyplot"
   ]
  },
  {
   "cell_type": "markdown",
   "id": "f32b4f60",
   "metadata": {},
   "source": [
    "#step 2. Select Data/Ingest/Extract"
   ]
  },
  {
   "cell_type": "code",
   "execution_count": 2,
   "id": "6024b78e",
   "metadata": {},
   "outputs": [
    {
     "ename": "FileNotFoundError",
     "evalue": "[Errno 2] No such file or directory: 'C:\\\\pydatafiles\\\\covid_19_clean_complete.csv'",
     "output_type": "error",
     "traceback": [
      "\u001b[1;31m---------------------------------------------------------------------------\u001b[0m",
      "\u001b[1;31mFileNotFoundError\u001b[0m                         Traceback (most recent call last)",
      "Input \u001b[1;32mIn [2]\u001b[0m, in \u001b[0;36m<cell line: 1>\u001b[1;34m()\u001b[0m\n\u001b[1;32m----> 1\u001b[0m covid_data\u001b[38;5;241m=\u001b[39m\u001b[43mpd\u001b[49m\u001b[38;5;241;43m.\u001b[39;49m\u001b[43mread_csv\u001b[49m\u001b[43m(\u001b[49m\u001b[38;5;124;43m\"\u001b[39;49m\u001b[38;5;124;43mC:\u001b[39;49m\u001b[38;5;124;43m\\\u001b[39;49m\u001b[38;5;124;43mpydatafiles\u001b[39;49m\u001b[38;5;124;43m\\\u001b[39;49m\u001b[38;5;124;43mcovid_19_clean_complete.csv\u001b[39;49m\u001b[38;5;124;43m\"\u001b[39;49m\u001b[43m)\u001b[49m\n\u001b[0;32m      2\u001b[0m \u001b[38;5;28mprint\u001b[39m(covid_data)\n",
      "File \u001b[1;32m~\\anaconda3\\lib\\site-packages\\pandas\\util\\_decorators.py:311\u001b[0m, in \u001b[0;36mdeprecate_nonkeyword_arguments.<locals>.decorate.<locals>.wrapper\u001b[1;34m(*args, **kwargs)\u001b[0m\n\u001b[0;32m    305\u001b[0m \u001b[38;5;28;01mif\u001b[39;00m \u001b[38;5;28mlen\u001b[39m(args) \u001b[38;5;241m>\u001b[39m num_allow_args:\n\u001b[0;32m    306\u001b[0m     warnings\u001b[38;5;241m.\u001b[39mwarn(\n\u001b[0;32m    307\u001b[0m         msg\u001b[38;5;241m.\u001b[39mformat(arguments\u001b[38;5;241m=\u001b[39marguments),\n\u001b[0;32m    308\u001b[0m         \u001b[38;5;167;01mFutureWarning\u001b[39;00m,\n\u001b[0;32m    309\u001b[0m         stacklevel\u001b[38;5;241m=\u001b[39mstacklevel,\n\u001b[0;32m    310\u001b[0m     )\n\u001b[1;32m--> 311\u001b[0m \u001b[38;5;28;01mreturn\u001b[39;00m func(\u001b[38;5;241m*\u001b[39margs, \u001b[38;5;241m*\u001b[39m\u001b[38;5;241m*\u001b[39mkwargs)\n",
      "File \u001b[1;32m~\\anaconda3\\lib\\site-packages\\pandas\\io\\parsers\\readers.py:680\u001b[0m, in \u001b[0;36mread_csv\u001b[1;34m(filepath_or_buffer, sep, delimiter, header, names, index_col, usecols, squeeze, prefix, mangle_dupe_cols, dtype, engine, converters, true_values, false_values, skipinitialspace, skiprows, skipfooter, nrows, na_values, keep_default_na, na_filter, verbose, skip_blank_lines, parse_dates, infer_datetime_format, keep_date_col, date_parser, dayfirst, cache_dates, iterator, chunksize, compression, thousands, decimal, lineterminator, quotechar, quoting, doublequote, escapechar, comment, encoding, encoding_errors, dialect, error_bad_lines, warn_bad_lines, on_bad_lines, delim_whitespace, low_memory, memory_map, float_precision, storage_options)\u001b[0m\n\u001b[0;32m    665\u001b[0m kwds_defaults \u001b[38;5;241m=\u001b[39m _refine_defaults_read(\n\u001b[0;32m    666\u001b[0m     dialect,\n\u001b[0;32m    667\u001b[0m     delimiter,\n\u001b[1;32m   (...)\u001b[0m\n\u001b[0;32m    676\u001b[0m     defaults\u001b[38;5;241m=\u001b[39m{\u001b[38;5;124m\"\u001b[39m\u001b[38;5;124mdelimiter\u001b[39m\u001b[38;5;124m\"\u001b[39m: \u001b[38;5;124m\"\u001b[39m\u001b[38;5;124m,\u001b[39m\u001b[38;5;124m\"\u001b[39m},\n\u001b[0;32m    677\u001b[0m )\n\u001b[0;32m    678\u001b[0m kwds\u001b[38;5;241m.\u001b[39mupdate(kwds_defaults)\n\u001b[1;32m--> 680\u001b[0m \u001b[38;5;28;01mreturn\u001b[39;00m \u001b[43m_read\u001b[49m\u001b[43m(\u001b[49m\u001b[43mfilepath_or_buffer\u001b[49m\u001b[43m,\u001b[49m\u001b[43m \u001b[49m\u001b[43mkwds\u001b[49m\u001b[43m)\u001b[49m\n",
      "File \u001b[1;32m~\\anaconda3\\lib\\site-packages\\pandas\\io\\parsers\\readers.py:575\u001b[0m, in \u001b[0;36m_read\u001b[1;34m(filepath_or_buffer, kwds)\u001b[0m\n\u001b[0;32m    572\u001b[0m _validate_names(kwds\u001b[38;5;241m.\u001b[39mget(\u001b[38;5;124m\"\u001b[39m\u001b[38;5;124mnames\u001b[39m\u001b[38;5;124m\"\u001b[39m, \u001b[38;5;28;01mNone\u001b[39;00m))\n\u001b[0;32m    574\u001b[0m \u001b[38;5;66;03m# Create the parser.\u001b[39;00m\n\u001b[1;32m--> 575\u001b[0m parser \u001b[38;5;241m=\u001b[39m TextFileReader(filepath_or_buffer, \u001b[38;5;241m*\u001b[39m\u001b[38;5;241m*\u001b[39mkwds)\n\u001b[0;32m    577\u001b[0m \u001b[38;5;28;01mif\u001b[39;00m chunksize \u001b[38;5;129;01mor\u001b[39;00m iterator:\n\u001b[0;32m    578\u001b[0m     \u001b[38;5;28;01mreturn\u001b[39;00m parser\n",
      "File \u001b[1;32m~\\anaconda3\\lib\\site-packages\\pandas\\io\\parsers\\readers.py:933\u001b[0m, in \u001b[0;36mTextFileReader.__init__\u001b[1;34m(self, f, engine, **kwds)\u001b[0m\n\u001b[0;32m    930\u001b[0m     \u001b[38;5;28mself\u001b[39m\u001b[38;5;241m.\u001b[39moptions[\u001b[38;5;124m\"\u001b[39m\u001b[38;5;124mhas_index_names\u001b[39m\u001b[38;5;124m\"\u001b[39m] \u001b[38;5;241m=\u001b[39m kwds[\u001b[38;5;124m\"\u001b[39m\u001b[38;5;124mhas_index_names\u001b[39m\u001b[38;5;124m\"\u001b[39m]\n\u001b[0;32m    932\u001b[0m \u001b[38;5;28mself\u001b[39m\u001b[38;5;241m.\u001b[39mhandles: IOHandles \u001b[38;5;241m|\u001b[39m \u001b[38;5;28;01mNone\u001b[39;00m \u001b[38;5;241m=\u001b[39m \u001b[38;5;28;01mNone\u001b[39;00m\n\u001b[1;32m--> 933\u001b[0m \u001b[38;5;28mself\u001b[39m\u001b[38;5;241m.\u001b[39m_engine \u001b[38;5;241m=\u001b[39m \u001b[38;5;28;43mself\u001b[39;49m\u001b[38;5;241;43m.\u001b[39;49m\u001b[43m_make_engine\u001b[49m\u001b[43m(\u001b[49m\u001b[43mf\u001b[49m\u001b[43m,\u001b[49m\u001b[43m \u001b[49m\u001b[38;5;28;43mself\u001b[39;49m\u001b[38;5;241;43m.\u001b[39;49m\u001b[43mengine\u001b[49m\u001b[43m)\u001b[49m\n",
      "File \u001b[1;32m~\\anaconda3\\lib\\site-packages\\pandas\\io\\parsers\\readers.py:1217\u001b[0m, in \u001b[0;36mTextFileReader._make_engine\u001b[1;34m(self, f, engine)\u001b[0m\n\u001b[0;32m   1213\u001b[0m     mode \u001b[38;5;241m=\u001b[39m \u001b[38;5;124m\"\u001b[39m\u001b[38;5;124mrb\u001b[39m\u001b[38;5;124m\"\u001b[39m\n\u001b[0;32m   1214\u001b[0m \u001b[38;5;66;03m# error: No overload variant of \"get_handle\" matches argument types\u001b[39;00m\n\u001b[0;32m   1215\u001b[0m \u001b[38;5;66;03m# \"Union[str, PathLike[str], ReadCsvBuffer[bytes], ReadCsvBuffer[str]]\"\u001b[39;00m\n\u001b[0;32m   1216\u001b[0m \u001b[38;5;66;03m# , \"str\", \"bool\", \"Any\", \"Any\", \"Any\", \"Any\", \"Any\"\u001b[39;00m\n\u001b[1;32m-> 1217\u001b[0m \u001b[38;5;28mself\u001b[39m\u001b[38;5;241m.\u001b[39mhandles \u001b[38;5;241m=\u001b[39m \u001b[43mget_handle\u001b[49m\u001b[43m(\u001b[49m\u001b[43m  \u001b[49m\u001b[38;5;66;43;03m# type: ignore[call-overload]\u001b[39;49;00m\n\u001b[0;32m   1218\u001b[0m \u001b[43m    \u001b[49m\u001b[43mf\u001b[49m\u001b[43m,\u001b[49m\n\u001b[0;32m   1219\u001b[0m \u001b[43m    \u001b[49m\u001b[43mmode\u001b[49m\u001b[43m,\u001b[49m\n\u001b[0;32m   1220\u001b[0m \u001b[43m    \u001b[49m\u001b[43mencoding\u001b[49m\u001b[38;5;241;43m=\u001b[39;49m\u001b[38;5;28;43mself\u001b[39;49m\u001b[38;5;241;43m.\u001b[39;49m\u001b[43moptions\u001b[49m\u001b[38;5;241;43m.\u001b[39;49m\u001b[43mget\u001b[49m\u001b[43m(\u001b[49m\u001b[38;5;124;43m\"\u001b[39;49m\u001b[38;5;124;43mencoding\u001b[39;49m\u001b[38;5;124;43m\"\u001b[39;49m\u001b[43m,\u001b[49m\u001b[43m \u001b[49m\u001b[38;5;28;43;01mNone\u001b[39;49;00m\u001b[43m)\u001b[49m\u001b[43m,\u001b[49m\n\u001b[0;32m   1221\u001b[0m \u001b[43m    \u001b[49m\u001b[43mcompression\u001b[49m\u001b[38;5;241;43m=\u001b[39;49m\u001b[38;5;28;43mself\u001b[39;49m\u001b[38;5;241;43m.\u001b[39;49m\u001b[43moptions\u001b[49m\u001b[38;5;241;43m.\u001b[39;49m\u001b[43mget\u001b[49m\u001b[43m(\u001b[49m\u001b[38;5;124;43m\"\u001b[39;49m\u001b[38;5;124;43mcompression\u001b[39;49m\u001b[38;5;124;43m\"\u001b[39;49m\u001b[43m,\u001b[49m\u001b[43m \u001b[49m\u001b[38;5;28;43;01mNone\u001b[39;49;00m\u001b[43m)\u001b[49m\u001b[43m,\u001b[49m\n\u001b[0;32m   1222\u001b[0m \u001b[43m    \u001b[49m\u001b[43mmemory_map\u001b[49m\u001b[38;5;241;43m=\u001b[39;49m\u001b[38;5;28;43mself\u001b[39;49m\u001b[38;5;241;43m.\u001b[39;49m\u001b[43moptions\u001b[49m\u001b[38;5;241;43m.\u001b[39;49m\u001b[43mget\u001b[49m\u001b[43m(\u001b[49m\u001b[38;5;124;43m\"\u001b[39;49m\u001b[38;5;124;43mmemory_map\u001b[39;49m\u001b[38;5;124;43m\"\u001b[39;49m\u001b[43m,\u001b[49m\u001b[43m \u001b[49m\u001b[38;5;28;43;01mFalse\u001b[39;49;00m\u001b[43m)\u001b[49m\u001b[43m,\u001b[49m\n\u001b[0;32m   1223\u001b[0m \u001b[43m    \u001b[49m\u001b[43mis_text\u001b[49m\u001b[38;5;241;43m=\u001b[39;49m\u001b[43mis_text\u001b[49m\u001b[43m,\u001b[49m\n\u001b[0;32m   1224\u001b[0m \u001b[43m    \u001b[49m\u001b[43merrors\u001b[49m\u001b[38;5;241;43m=\u001b[39;49m\u001b[38;5;28;43mself\u001b[39;49m\u001b[38;5;241;43m.\u001b[39;49m\u001b[43moptions\u001b[49m\u001b[38;5;241;43m.\u001b[39;49m\u001b[43mget\u001b[49m\u001b[43m(\u001b[49m\u001b[38;5;124;43m\"\u001b[39;49m\u001b[38;5;124;43mencoding_errors\u001b[39;49m\u001b[38;5;124;43m\"\u001b[39;49m\u001b[43m,\u001b[49m\u001b[43m \u001b[49m\u001b[38;5;124;43m\"\u001b[39;49m\u001b[38;5;124;43mstrict\u001b[39;49m\u001b[38;5;124;43m\"\u001b[39;49m\u001b[43m)\u001b[49m\u001b[43m,\u001b[49m\n\u001b[0;32m   1225\u001b[0m \u001b[43m    \u001b[49m\u001b[43mstorage_options\u001b[49m\u001b[38;5;241;43m=\u001b[39;49m\u001b[38;5;28;43mself\u001b[39;49m\u001b[38;5;241;43m.\u001b[39;49m\u001b[43moptions\u001b[49m\u001b[38;5;241;43m.\u001b[39;49m\u001b[43mget\u001b[49m\u001b[43m(\u001b[49m\u001b[38;5;124;43m\"\u001b[39;49m\u001b[38;5;124;43mstorage_options\u001b[39;49m\u001b[38;5;124;43m\"\u001b[39;49m\u001b[43m,\u001b[49m\u001b[43m \u001b[49m\u001b[38;5;28;43;01mNone\u001b[39;49;00m\u001b[43m)\u001b[49m\u001b[43m,\u001b[49m\n\u001b[0;32m   1226\u001b[0m \u001b[43m\u001b[49m\u001b[43m)\u001b[49m\n\u001b[0;32m   1227\u001b[0m \u001b[38;5;28;01massert\u001b[39;00m \u001b[38;5;28mself\u001b[39m\u001b[38;5;241m.\u001b[39mhandles \u001b[38;5;129;01mis\u001b[39;00m \u001b[38;5;129;01mnot\u001b[39;00m \u001b[38;5;28;01mNone\u001b[39;00m\n\u001b[0;32m   1228\u001b[0m f \u001b[38;5;241m=\u001b[39m \u001b[38;5;28mself\u001b[39m\u001b[38;5;241m.\u001b[39mhandles\u001b[38;5;241m.\u001b[39mhandle\n",
      "File \u001b[1;32m~\\anaconda3\\lib\\site-packages\\pandas\\io\\common.py:789\u001b[0m, in \u001b[0;36mget_handle\u001b[1;34m(path_or_buf, mode, encoding, compression, memory_map, is_text, errors, storage_options)\u001b[0m\n\u001b[0;32m    784\u001b[0m \u001b[38;5;28;01melif\u001b[39;00m \u001b[38;5;28misinstance\u001b[39m(handle, \u001b[38;5;28mstr\u001b[39m):\n\u001b[0;32m    785\u001b[0m     \u001b[38;5;66;03m# Check whether the filename is to be opened in binary mode.\u001b[39;00m\n\u001b[0;32m    786\u001b[0m     \u001b[38;5;66;03m# Binary mode does not support 'encoding' and 'newline'.\u001b[39;00m\n\u001b[0;32m    787\u001b[0m     \u001b[38;5;28;01mif\u001b[39;00m ioargs\u001b[38;5;241m.\u001b[39mencoding \u001b[38;5;129;01mand\u001b[39;00m \u001b[38;5;124m\"\u001b[39m\u001b[38;5;124mb\u001b[39m\u001b[38;5;124m\"\u001b[39m \u001b[38;5;129;01mnot\u001b[39;00m \u001b[38;5;129;01min\u001b[39;00m ioargs\u001b[38;5;241m.\u001b[39mmode:\n\u001b[0;32m    788\u001b[0m         \u001b[38;5;66;03m# Encoding\u001b[39;00m\n\u001b[1;32m--> 789\u001b[0m         handle \u001b[38;5;241m=\u001b[39m \u001b[38;5;28;43mopen\u001b[39;49m\u001b[43m(\u001b[49m\n\u001b[0;32m    790\u001b[0m \u001b[43m            \u001b[49m\u001b[43mhandle\u001b[49m\u001b[43m,\u001b[49m\n\u001b[0;32m    791\u001b[0m \u001b[43m            \u001b[49m\u001b[43mioargs\u001b[49m\u001b[38;5;241;43m.\u001b[39;49m\u001b[43mmode\u001b[49m\u001b[43m,\u001b[49m\n\u001b[0;32m    792\u001b[0m \u001b[43m            \u001b[49m\u001b[43mencoding\u001b[49m\u001b[38;5;241;43m=\u001b[39;49m\u001b[43mioargs\u001b[49m\u001b[38;5;241;43m.\u001b[39;49m\u001b[43mencoding\u001b[49m\u001b[43m,\u001b[49m\n\u001b[0;32m    793\u001b[0m \u001b[43m            \u001b[49m\u001b[43merrors\u001b[49m\u001b[38;5;241;43m=\u001b[39;49m\u001b[43merrors\u001b[49m\u001b[43m,\u001b[49m\n\u001b[0;32m    794\u001b[0m \u001b[43m            \u001b[49m\u001b[43mnewline\u001b[49m\u001b[38;5;241;43m=\u001b[39;49m\u001b[38;5;124;43m\"\u001b[39;49m\u001b[38;5;124;43m\"\u001b[39;49m\u001b[43m,\u001b[49m\n\u001b[0;32m    795\u001b[0m \u001b[43m        \u001b[49m\u001b[43m)\u001b[49m\n\u001b[0;32m    796\u001b[0m     \u001b[38;5;28;01melse\u001b[39;00m:\n\u001b[0;32m    797\u001b[0m         \u001b[38;5;66;03m# Binary mode\u001b[39;00m\n\u001b[0;32m    798\u001b[0m         handle \u001b[38;5;241m=\u001b[39m \u001b[38;5;28mopen\u001b[39m(handle, ioargs\u001b[38;5;241m.\u001b[39mmode)\n",
      "\u001b[1;31mFileNotFoundError\u001b[0m: [Errno 2] No such file or directory: 'C:\\\\pydatafiles\\\\covid_19_clean_complete.csv'"
     ]
    }
   ],
   "source": [
    "covid_data=pd.read_csv(\"C:\\pydatafiles\\covid_19_clean_complete.csv\")\n",
    "print(covid_data)"
   ]
  },
  {
   "cell_type": "code",
   "execution_count": null,
   "id": "3e12d17e",
   "metadata": {},
   "outputs": [],
   "source": [
    "covid_data.dropna(how=\"all\")"
   ]
  },
  {
   "cell_type": "code",
   "execution_count": null,
   "id": "c8338128",
   "metadata": {},
   "outputs": [],
   "source": [
    "covid_data.shape"
   ]
  },
  {
   "cell_type": "code",
   "execution_count": null,
   "id": "84fb72e6",
   "metadata": {},
   "outputs": [],
   "source": [
    "covid_data.describe()"
   ]
  },
  {
   "cell_type": "code",
   "execution_count": null,
   "id": "b5022110",
   "metadata": {},
   "outputs": [],
   "source": [
    "covid_data.head()"
   ]
  },
  {
   "cell_type": "code",
   "execution_count": null,
   "id": "e6cd1749",
   "metadata": {},
   "outputs": [],
   "source": [
    "covid_data.tail()"
   ]
  },
  {
   "cell_type": "code",
   "execution_count": null,
   "id": "b938dc8f",
   "metadata": {},
   "outputs": [],
   "source": [
    "#Selecting features/Attributes"
   ]
  },
  {
   "cell_type": "code",
   "execution_count": null,
   "id": "aeb889cd",
   "metadata": {},
   "outputs": [],
   "source": [
    "province=covid_data['State']\n",
    "print(province)\n",
    "Country=covid_data['Region']\n",
    "print(Country)\n",
    "confirmed=covid_data['Confirmed']\n",
    "print(confirmed)\n",
    "death=covid_data['Death']\n",
    "print(death)\n",
    "recovered=covid_data['Recovered']\n",
    "print(recovered)\n",
    "active=covid_data['Active']\n",
    "print(active)\n",
    "who_region=covid_data['WHO Region']\n",
    "print(who_region)"
   ]
  },
  {
   "cell_type": "markdown",
   "id": "9743adef",
   "metadata": {},
   "source": [
    "# step 3. Perform Descriptive Analytics"
   ]
  },
  {
   "cell_type": "markdown",
   "id": "33738b30",
   "metadata": {},
   "source": [
    "# Question1"
   ]
  },
  {
   "cell_type": "markdown",
   "id": "d0d9a376",
   "metadata": {},
   "source": [
    "#step 3(a). Measures of central tendency-is a summary measure that attempts to describe a whole set of data with a single value that represents the middle or centre of its distribution. They include the mean(average), median and the mode. "
   ]
  },
  {
   "cell_type": "markdown",
   "id": "a921fbba",
   "metadata": {},
   "source": [
    "#(i). Count No."
   ]
  },
  {
   "cell_type": "code",
   "execution_count": null,
   "id": "a6758ca8",
   "metadata": {},
   "outputs": [],
   "source": [
    "Total_provinces=province.count()\n",
    "print(\"\\n No of Provinces:\",Total_provinces)\n",
    "Names_Country=Country.count()\n",
    "print(\"\\n Names of Region/ Country:\",Names_Country)\n",
    "confirmed_cases=confirmed.count()\n",
    "print(\"\\n Confirmed cases:\",confirmed_cases)\n",
    "death_cases=death.count()\n",
    "print(\"\\n Death cases reported:\",death_cases)\n",
    "recovered_patients=recovered.count()\n",
    "print(\"\\n No of recovered patients:\",recovered_patients)\n",
    "active_cases=active.count()\n",
    "print(\"\\n Active cases reported:\",active_cases)\n",
    "Who_places=who_region.count()\n",
    "print(\"\\n No of WHO regions reported:\",Who_places)"
   ]
  },
  {
   "cell_type": "markdown",
   "id": "1894a262",
   "metadata": {},
   "source": [
    "#(ii). Calculate Sum"
   ]
  },
  {
   "cell_type": "code",
   "execution_count": null,
   "id": "0f21a4ca",
   "metadata": {},
   "outputs": [],
   "source": [
    "death_reported=death.sum()\n",
    "print(\"Total Death cases:\",death_reported)\n",
    "patient_recovered=recovered.sum()\n",
    "print(\"Recovered patients from covid:\",patient_recovered)\n",
    "No_of_Active_cases=active.sum()\n",
    "print(\"No of active cases highlighted:\",No_of_Active_cases)"
   ]
  },
  {
   "cell_type": "markdown",
   "id": "e062fae9",
   "metadata": {},
   "source": [
    "Explanations\n",
    "The number of death cases reported during the covid-19 seems is more as compared to the number of pateients and active cases reported. The high number could be attributed due to low level of preparedness and low uptake of covid vaccinations."
   ]
  },
  {
   "cell_type": "markdown",
   "id": "0f5a9a17",
   "metadata": {},
   "source": [
    "#(iii). Calculate Average- Is the sum of all scores divided by the number of scores."
   ]
  },
  {
   "cell_type": "code",
   "execution_count": null,
   "id": "70f68cf3",
   "metadata": {},
   "outputs": [],
   "source": [
    "\n",
    "Average_confirmed=round(confirmed.mean(),1)\n",
    "Average_death=round(death.mean(),1)\n",
    "Average_recovered=round(death.mean(),1)\n",
    "Average_active=round(active.mean(),1)\n",
    "\n",
    "print(\"Average confirmed cases:\",Average_confirmed)\n",
    "print(\"Average Death  reported:\",Average_death)\n",
    "print(\"Average patrient who recovered:\",Average_recovered)\n",
    "print(\"Average active cases:\",Average_active)"
   ]
  },
  {
   "cell_type": "markdown",
   "id": "afacc4ae",
   "metadata": {},
   "source": [
    "#(iv). Calculate median-Middle obseravtion of ranked data. "
   ]
  },
  {
   "cell_type": "code",
   "execution_count": null,
   "id": "9bf6d231",
   "metadata": {},
   "outputs": [],
   "source": [
    "\n",
    "Median_confirmed=confirmed.median()\n",
    "Median_death=death.median()\n",
    "Median_recovered=recovered.median()\n",
    "Median_active=active.median()\n",
    "\n",
    "print(\"Median of confirmed cases:\",Median_confirmed)\n",
    "print(\"Median death reported:\",Median_death)\n",
    "print(\"Median of cases recovered:\",Median_recovered)\n",
    "print(\"Median of active cases:\",Median_active)"
   ]
  },
  {
   "cell_type": "markdown",
   "id": "15fcba0e",
   "metadata": {},
   "source": [
    "#(v). Calculate the mode- Is the number that appear most. "
   ]
  },
  {
   "cell_type": "code",
   "execution_count": null,
   "id": "90281f73",
   "metadata": {},
   "outputs": [],
   "source": [
    "\n",
    "Mode_confirmed=confirmed.mode().iloc[0]\n",
    "Mode_death=death.mode().iloc[0]\n",
    "Mode_recovered=recovered.mode().iloc[0]\n",
    "Mode_active=active.mode().iloc[0]\n",
    "\n",
    "print(\"Mode of confirmed cases:\",Mode_confirmed)\n",
    "print(\"Mode of death cases:\",Mode_death)\n",
    "print(\"Mode of recovered cases:\",Mode_recovered)\n",
    "print(\"Mode of Active cases:\",Mode_active)"
   ]
  },
  {
   "cell_type": "markdown",
   "id": "61748074",
   "metadata": {},
   "source": [
    "Explanations\n",
    "The mean and median of the death reported a low number as compared to the other variables mentioned. \n",
    "Death cases is more likely to have low average cases reported. "
   ]
  },
  {
   "cell_type": "markdown",
   "id": "b5dadfdd",
   "metadata": {},
   "source": [
    "(b)Measures of Dispersion- Describes the amount of variability present in the dataset. They include the minimum, maximum, range, interquantile,variance and standard deviation. "
   ]
  },
  {
   "cell_type": "code",
   "execution_count": null,
   "id": "9cda6f08",
   "metadata": {},
   "outputs": [],
   "source": [
    "print(\"Quantiles\")\n",
    "print(\"**********************************\")\n",
    "\n",
    "minimum_confirmed=confirmed.min()\n",
    "maximum_confirmed=confirmed.max()\n",
    "confirmed_range=maximum_confirmed-minimum_confirmed\n",
    "minimum_death=death.min()\n",
    "maximum_death=death.max()\n",
    "death_range=maximum_death-minimum_death\n",
    "minimum_recovered=recovered.min()\n",
    "maximum_recovered=recovered.max()\n",
    "recovered_range=maximum_recovered-minimum_recovered\n",
    "minimum_active=active.min()\n",
    "maximum_active=active.max()\n",
    "active_range=maximum_active-minimum_active\n",
    "\n",
    "\n",
    "print(\"\\ Minimum confirmed cases\\n\",minimum_confirmed)\n",
    "print(\"\\n Maximum confirmed cases\\n\",maximum_confirmed)\n",
    "print(\"\\n Range for confirmed is \\n\",confirmed_range)\n",
    "print(\"\\n Minimum death reported\\n\",minimum_death)\n",
    "print(\"\\n Maximun death reported\\n\",maximum_death)\n",
    "print(\"\\n Death range is\\n\",death_range)\n",
    "print(\"\\n Minimum recovered patients\\n\",minimum_recovered)\n",
    "print(\"\\n Maximum recovered patients\\n\",maximum_recovered)\n",
    "print(\"\\n Recovered range is\\n\",recovered_range)\n",
    "print(\"\\n Minimum active cases\\n\",minimum_active)\n",
    "print(\"\\n Maximun active cases\\n\",maximum_active)\n",
    "print(\"\\n Active range is \\n\",active_range)"
   ]
  },
  {
   "cell_type": "markdown",
   "id": "eec0a3ef",
   "metadata": {},
   "source": [
    "Explanations\n",
    "Confirmed cases reported a maximum and range of the covid cases at 68153 also with no minimum cases reported. There is also few cases of death and high recovery rate for infecteed patients. \n",
    "This decrease death can be attributed to adherence of government protocols(masking, social distance and hand washing) and also increase uptake of covid vaccinations "
   ]
  },
  {
   "cell_type": "code",
   "execution_count": null,
   "id": "3ca57b50",
   "metadata": {},
   "outputs": [],
   "source": [
    "# Calculating the inter Quantile Range"
   ]
  },
  {
   "cell_type": "code",
   "execution_count": null,
   "id": "c058d643",
   "metadata": {},
   "outputs": [],
   "source": [
    "print(\"The Quantile Ranges\")\n",
    "print(\"$$$$$$$$$$$$$$$$$$$$$$$$$$$$$$$\")\n",
    "print(\"Explanations Low or no cases were reported lower quantiles for active and recovered patients. More cases were confirmed at middle, upper and interquantile range. The hiher number of cases can be justified by low preparedness level and laxity in enforcement of governmenr protocols.\")\n",
    "\n",
    "confirmed_Lower_Quantile=confirmed.quantile(0.25)\n",
    "confirmed_Middle_Quantile=confirmed.quantile(0.50)\n",
    "confirmed_Upper_Quantile=confirmed.quantile(0.75)\n",
    "Interquantile_range=confirmed_Upper_Quantile-confirmed_Lower_Quantile\n",
    "print(\"Confirmed for Lower quantile:\",confirmed_Lower_Quantile)\n",
    "print(\"confirmed for Middle quantile:\",confirmed_Middle_Quantile)\n",
    "print(\"Confirmed for Upper quantile:\",confirmed_Upper_Quantile)\n",
    "print(\"Interquantile range for confirmed:\",Interquantile_range)\n",
    "print(\"*****************************************\")\n",
    "\n",
    "death_Lower_Quantile=death.quantile(0.25)\n",
    "death_Middle_Quantile=death.quantile(0.50)\n",
    "death_Upper_Quantile=death.quantile(0.75)\n",
    "Interquantile_range=death_Upper_Quantile-death_Lower_Quantile\n",
    "print(\"Death for Lower quantile:\",death_Lower_Quantile)\n",
    "print(\"Death for Middle quantile:\",death_Middle_Quantile)\n",
    "print(\"Death for Upper quantile:\",death_Upper_Quantile)\n",
    "print(\"Interquantile range for Death:\",Interquantile_range)\n",
    "print(\"*****************************************\")\n",
    "\n",
    "recovered_Lower_Quantile=recovered.quantile(0.25)\n",
    "recovered_Middle_Quantile=recovered.quantile(0.50)\n",
    "recovered_Upper_Quantile=recovered.quantile(0.75)\n",
    "Interquantile_range=recovered_Upper_Quantile-recovered_Lower_Quantile\n",
    "print(\"Recovered for Lower quantile:\",recovered_Lower_Quantile)\n",
    "print(\"Recovered for Middle quantile:\",recovered_Middle_Quantile)\n",
    "print(\"Recovered for Upper quantile:\",recovered_Upper_Quantile)\n",
    "print(\"Interquantile range for Recovered:\",Interquantile_range)\n",
    "print(\"*****************************************\")\n",
    "\n",
    "active_Lower_Quantile=active.quantile(0.25)\n",
    "active_Middle_Quantile=active.quantile(0.50)\n",
    "active_Upper_Quantile=active.quantile(0.75)\n",
    "Interquantile_range=active_Upper_Quantile-active_Lower_Quantile\n",
    "print(\"Active for Lower quantile:\",active_Lower_Quantile)\n",
    "print(\"Active for Middle quantile:\",active_Middle_Quantile)\n",
    "print(\"Active for Upper quantile:\",active_Upper_Quantile)\n",
    "print(\"Interquantile range for active:\",Interquantile_range)\n",
    "print(\"*****************************************\")"
   ]
  },
  {
   "cell_type": "markdown",
   "id": "fc95db1d",
   "metadata": {},
   "source": [
    "Explanations\n",
    "Low or no cases were reported lower quantiles for active and recovered patients. More cases were confirmed at middle, upper and interquantile range. The hiher number of cases can be justified by low preparedness level and laxity in enforcement of governmenr protocols. "
   ]
  },
  {
   "cell_type": "code",
   "execution_count": null,
   "id": "d2b31c4a",
   "metadata": {},
   "outputs": [],
   "source": [
    "# Standard deviation"
   ]
  },
  {
   "cell_type": "code",
   "execution_count": null,
   "id": "865b1ff4",
   "metadata": {},
   "outputs": [],
   "source": [
    "\n",
    "confirmed_Std=confirmed.std()\n",
    "death_Std=death.std()\n",
    "Recovered_Std=recovered.std()\n",
    "active_Std=active.std()\n",
    "\n",
    "print(\"STD for confirmed:\",confirmed_Std)\n",
    "print(\"STD for death:\",death_Std)\n",
    "print(\"STD for recovered:\",Recovered_Std)\n",
    "print(\"STD for active cases:\",active_Std)"
   ]
  },
  {
   "cell_type": "code",
   "execution_count": null,
   "id": "7b629f7d",
   "metadata": {},
   "outputs": [],
   "source": [
    "# Calculate the variance"
   ]
  },
  {
   "cell_type": "code",
   "execution_count": null,
   "id": "f40f82a9",
   "metadata": {},
   "outputs": [],
   "source": [
    "\n",
    "confirmed_Variance= confirmed_Std * confirmed_Std\n",
    "death_Variance= death_Std * death_Std\n",
    "Recovered_Variance= Recovered_Std * Recovered_Std\n",
    "active_Variance= active_Std * active_Std\n",
    "\n",
    "print(\"confirmed Variance:\",confirmed_Variance)\n",
    "print(\"Death Variance:\",death_Variance)\n",
    "print(\"Recovered Variance:\",Recovered_Variance)\n",
    "print(\"Active Variance:\",active_Variance)"
   ]
  },
  {
   "cell_type": "code",
   "execution_count": null,
   "id": "f861df25",
   "metadata": {},
   "outputs": [],
   "source": [
    "DescriptiveSummary=covid_data.describe()\n",
    "print(DescriptiveSummary)"
   ]
  },
  {
   "cell_type": "markdown",
   "id": "a3082079",
   "metadata": {},
   "source": [
    "question 3.\n",
    "Measure relationships-refer to a wide variety of coefficients that measure the statistical strength of the relationship on the variables of interest\n",
    "They include the covariance and correlations coefficient."
   ]
  },
  {
   "cell_type": "markdown",
   "id": "5cf4ea12",
   "metadata": {},
   "source": [
    "#(i). Calculate correlations\n",
    "Correlations-Determines how two variables are related."
   ]
  },
  {
   "cell_type": "code",
   "execution_count": null,
   "id": "7c08316f",
   "metadata": {
    "scrolled": true
   },
   "outputs": [],
   "source": [
    "print(\"A positive correlation exit between confirmed and recovered cases of 0.6989,and active cases and confirmed cases at 0.6989. This correlation can be attributed due to compliance of the government protocols and also uptake of the covid injections.\")\n",
    "correlation=covid_data.corr(method=\"pearson\")\n",
    "print(\"\\n Correlation for the covid data\\n\",correlation)"
   ]
  },
  {
   "cell_type": "markdown",
   "id": "d2ff1613",
   "metadata": {},
   "source": [
    "#Calculate Covariance\n",
    "Covariance is a measure of much the dimensions (attribute) vary from the mean with respect to each other"
   ]
  },
  {
   "cell_type": "code",
   "execution_count": null,
   "id": "f11b308c",
   "metadata": {},
   "outputs": [],
   "source": [
    "Covariance= np.cov(confirmed,active)\n",
    "covariance_matrix=pd.DataFrame(Covariance,index=[\"confirmed\",\"active\"],columns=[\"confirmed\",\"active\"])\n",
    "print(\"\\n covariance of the covid data\\n\",covariance_matrix)\n",
    "                            "
   ]
  },
  {
   "cell_type": "markdown",
   "id": "33daefc7",
   "metadata": {},
   "source": [
    "# Question 2 Visualization Techniques"
   ]
  },
  {
   "cell_type": "code",
   "execution_count": null,
   "id": "742e5edb",
   "metadata": {},
   "outputs": [],
   "source": [
    "import pandas as pd\n",
    "import numpy as np\n",
    "import seaborn as sns\n",
    "import matplotlib.pyplot as plt"
   ]
  },
  {
   "cell_type": "code",
   "execution_count": null,
   "id": "96b40ba3",
   "metadata": {},
   "outputs": [],
   "source": [
    "covid_data= pd.read_csv(\"C:\\pydatafiles\\covid_19_clean_complete.csv\")"
   ]
  },
  {
   "cell_type": "code",
   "execution_count": null,
   "id": "a6d15c5b",
   "metadata": {},
   "outputs": [],
   "source": [
    "covid_data.iloc[:10,[1,3]]"
   ]
  },
  {
   "cell_type": "code",
   "execution_count": null,
   "id": "8d99bd93",
   "metadata": {},
   "outputs": [],
   "source": [
    "x=covid_data[\"Region\"].count()\n",
    "print(x)"
   ]
  },
  {
   "cell_type": "code",
   "execution_count": null,
   "id": "ec00fcbb",
   "metadata": {},
   "outputs": [],
   "source": [
    "y=covid_data[\"Death\"].sum()\n",
    "print(y)"
   ]
  },
  {
   "cell_type": "markdown",
   "id": "6ebb7468",
   "metadata": {},
   "source": [
    "1. Histogram- Is the approximate representation of the distribution of numerical data. From the "
   ]
  },
  {
   "cell_type": "code",
   "execution_count": null,
   "id": "d2176338",
   "metadata": {},
   "outputs": [],
   "source": [
    "print(\"The mean and median are next to each other. In skewed data, the mean and median lie further toward the skew than the mode\")\n",
    "import matplotlib.pyplot as plt\n",
    "death.plot(kind='hist',figsize=(16,6), linewidth=2, color='lightcoral',edgecolor='maroon')\n",
    "plt.xlabel(\"Confirmed Distribution\",labelpad=15)\n",
    "plt.ylabel(\"frequency\",labelpad=15)\n",
    "plt.title(\"Distribution of death cases\",y=1.012,fontsize=22)\n",
    "measurements=[Mode_death,Median_death, Average_death]\n",
    "names=[\"Std Deviation\",\"Variance\",\"Mean\"]\n",
    "colors=[\"green\",\"black\",\"blue\"]\n",
    "for measurement,name,color in zip(measurements,names, colors):\n",
    "    plt.axvline(x=measurement,linestyle=\"--\",linewidth=2,label=\"(0) at(1)\".format(name, measurement),c=color)\n",
    "    plt.legend();\n",
    "    "
   ]
  },
  {
   "cell_type": "markdown",
   "id": "a2e4a127",
   "metadata": {},
   "source": [
    "2. Dist plot"
   ]
  },
  {
   "cell_type": "code",
   "execution_count": null,
   "id": "07e98679",
   "metadata": {},
   "outputs": [],
   "source": [
    "sns.distplot( x=covid_data[\"Death\"],color=(\"lightcoral\"),hist=True)"
   ]
  },
  {
   "cell_type": "markdown",
   "id": "447b7c7f",
   "metadata": {},
   "source": [
    "3. Scatter plot-\n",
    "shows the relationship between two variables as dots in two dimensions, one axis for each attribute. There is a perfect positive correlation. Active cases and the patients recovering are moving proportionally in the same direction."
   ]
  },
  {
   "cell_type": "code",
   "execution_count": null,
   "id": "b9d25517",
   "metadata": {},
   "outputs": [],
   "source": [
    "import seaborn as sns\n",
    "sns.scatterplot(x=\"Region\",y=\"Death\",data=covid_data)\n",
    "\n",
    "print(\"There is zero correlation betwen the region and death cases reported.\")"
   ]
  },
  {
   "cell_type": "markdown",
   "id": "e4429a94",
   "metadata": {},
   "source": [
    "4. Correlation Heatmap-\n",
    "Is aheatmap that shows 2D correlation matrix between two discrete dimensions using colored cells to represent data in monochroamtic scale.  \n"
   ]
  },
  {
   "cell_type": "code",
   "execution_count": null,
   "id": "f72e9d10",
   "metadata": {},
   "outputs": [],
   "source": [
    "covid_data= pd.read_csv(\"C:\\pydatafiles\\covid_19_clean_complete.csv\")\n",
    "correlation=covid_data.corr(method=\"pearson\")\n",
    "print(\"\\n Correlation for the covid data\\n\",correlation)"
   ]
  },
  {
   "cell_type": "code",
   "execution_count": null,
   "id": "09c08f64",
   "metadata": {},
   "outputs": [],
   "source": [
    "plt.figure(figsize=(16, 6))\n",
    "correlation=covid_data.corr(method='pearson')\n",
    "covid_data=sns.heatmap(correlation,cmap=\"coolwarm\",annot=True)\n",
    "print(\"Explanation Correlation ranges from -1 to +1. Values closer to zero means there is no linear trend between the two variables. A atronger relationship exist between the acive cases and confirmed cases reported of 0.7. Again strong correlation also exist between the active cases and confirmed cases. The close to 1 the correlation is the more positively correlated they are; that is as one increases so does the other and the closer to 1 the stronger this relationship is.\")"
   ]
  },
  {
   "cell_type": "markdown",
   "id": "74c0220c",
   "metadata": {},
   "source": [
    "5 .Bar chart-Is a chart or graph that presents categorical data with rectangular bars with heights or lengths proportional to the values that they represent. The bars can be plotted vertically or horizontally. \n"
   ]
  },
  {
   "cell_type": "code",
   "execution_count": null,
   "id": "f64901a2",
   "metadata": {},
   "outputs": [],
   "source": [
    "sns.set(style=\"darkgrid\")\n",
    "sns.histplot(x=covid_data[\"Death\"],color=(\"lightcoral\"))\n",
    "print(\"Explanation ***Long vertical bars shows there was high covid cases especially in 49050 and 49066, difference between the high and low of the period\")"
   ]
  },
  {
   "cell_type": "code",
   "execution_count": null,
   "id": "b1261e7d",
   "metadata": {},
   "outputs": [],
   "source": [
    "import seaborn as sns\n",
    "sns.set_theme(style=\"whitegrid\")"
   ]
  },
  {
   "cell_type": "markdown",
   "id": "467f6ca7",
   "metadata": {},
   "source": [
    "6. Boxplot-\n",
    "Is a chart that is used to visualize how a given data (variable) is distributed using quartiles. It shows the minimum, maximum, median, first quartile and third quartile in the data set."
   ]
  },
  {
   "cell_type": "code",
   "execution_count": null,
   "id": "e699690a",
   "metadata": {},
   "outputs": [],
   "source": [
    "covid_data= pd.read_csv(\"C:\\pydatafiles\\covid_19_clean_complete.csv\")\n",
    "covid_data.plot(kind='box',showmeans='true')\n",
    "print(\"Explanation The quantiles are all below the median. The points seems to be similar at certain parts of the scale, this indicates the possible presence of outliers\")"
   ]
  },
  {
   "cell_type": "markdown",
   "id": "3cfbe241",
   "metadata": {},
   "source": [
    "7.Pie chart- Is a representation of the whole proportion. From the diagram, more cases of covid were confirmed,followed by active,recovered cases respectively. Few death cases were reported.  "
   ]
  },
  {
   "cell_type": "code",
   "execution_count": null,
   "id": "aeab1b49",
   "metadata": {},
   "outputs": [],
   "source": [
    "\n",
    "y = np.array([222.9, 10.5, 1123.5, 10.5])\n",
    "mylabels = [\"Confirmed\", \"Death\", \"Active\", \"Recovered\"]\n",
    "myexplode = [0.2, 0.1, 0, 0]\n",
    "mycolors = [\"grey\", \"hotpink\",\"#4CAF50\",\"b\"]\n",
    "\n",
    "plt.pie(y, labels = mylabels, explode = myexplode, colors=mycolors)\n",
    "plt.show() "
   ]
  },
  {
   "cell_type": "markdown",
   "id": "22cfa2fc",
   "metadata": {},
   "source": [
    "8. Radar plot-\n",
    "Is a technique to display multivariate data on the two-dimensional plot where three or more quantitative variables are represented by axes starting from the same point. \n",
    "Explanation\n"
   ]
  },
  {
   "cell_type": "code",
   "execution_count": null,
   "id": "6de790fc",
   "metadata": {},
   "outputs": [],
   "source": [
    "import plotly.express as px"
   ]
  },
  {
   "cell_type": "code",
   "execution_count": null,
   "id": "14fb617a",
   "metadata": {},
   "outputs": [],
   "source": [
    "fig = px.line_polar( r=Average_Latitude(round(Latitude.mean(),1)),theta=Average_Latitude.columns,line_close=True,range_r = [0,1.0],\n",
    "title=(\"Finding average Latitude\")\n",
    "                    fig.show()"
   ]
  }
 ],
 "metadata": {
  "kernelspec": {
   "display_name": "Python 3 (ipykernel)",
   "language": "python",
   "name": "python3"
  },
  "language_info": {
   "codemirror_mode": {
    "name": "ipython",
    "version": 3
   },
   "file_extension": ".py",
   "mimetype": "text/x-python",
   "name": "python",
   "nbconvert_exporter": "python",
   "pygments_lexer": "ipython3",
   "version": "3.9.12"
  }
 },
 "nbformat": 4,
 "nbformat_minor": 5
}
