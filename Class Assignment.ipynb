{
 "cells": [
  {
   "cell_type": "code",
   "execution_count": 3,
   "id": "4aca13fb",
   "metadata": {},
   "outputs": [],
   "source": [
    "import pandas as pd\n",
    "import numpy as np"
   ]
  },
  {
   "cell_type": "code",
   "execution_count": 4,
   "id": "7c8fe977",
   "metadata": {},
   "outputs": [
    {
     "name": "stdout",
     "output_type": "stream",
     "text": [
      "     Marital status  Application mode  Application order  Course  \\\n",
      "0                 1                17                  5     171   \n",
      "1                 1                15                  1    9254   \n",
      "2                 1                 1                  5    9070   \n",
      "3                 1                17                  2    9773   \n",
      "4                 2                39                  1    8014   \n",
      "..              ...               ...                ...     ...   \n",
      "994               2                 7                  1    9238   \n",
      "995               1                39                  1    8014   \n",
      "996               1                 1                  3    9500   \n",
      "997               1                44                  1    9085   \n",
      "998               1                17                  1    9254   \n",
      "\n",
      "     Daytime/evening attendance  Previous qualification  \\\n",
      "0                             1                       1   \n",
      "1                             1                       1   \n",
      "2                             1                       1   \n",
      "3                             1                       1   \n",
      "4                             0                       1   \n",
      "..                          ...                     ...   \n",
      "994                           1                       3   \n",
      "995                           0                       1   \n",
      "996                           1                       1   \n",
      "997                           1                      39   \n",
      "998                           1                       1   \n",
      "\n",
      "     Previous qualification (grade)  Nacionality  Mother's qualification  \\\n",
      "0                             122.0            1                      19   \n",
      "1                             160.0            1                       1   \n",
      "2                             122.0            1                      37   \n",
      "3                             122.0            1                      38   \n",
      "4                             100.0            1                      37   \n",
      "..                              ...          ...                     ...   \n",
      "994                           150.0            1                      37   \n",
      "995                           130.0            1                      37   \n",
      "996                           113.0            1                       3   \n",
      "997                           130.0            6                      19   \n",
      "998                           115.0            1                       1   \n",
      "\n",
      "     Father's qualification  Mother's occupation  Father's occupation  \n",
      "0                        12                    5                    9  \n",
      "1                         3                    3                    3  \n",
      "2                        37                    9                    9  \n",
      "3                        37                    5                    3  \n",
      "4                        38                    9                    9  \n",
      "..                      ...                  ...                  ...  \n",
      "994                      37                  191                  192  \n",
      "995                      37                    9                    8  \n",
      "996                       1                  134                  135  \n",
      "997                       1                    6                    4  \n",
      "998                      19                    3                    3  \n",
      "\n",
      "[999 rows x 12 columns]\n"
     ]
    }
   ],
   "source": [
    "data=pd.read_csv(\"C:\\pydatafiles\\Dropout_Academic Success - Sheet1.csv\")\n",
    "print(data)"
   ]
  },
  {
   "cell_type": "code",
   "execution_count": 5,
   "id": "b6b570ca",
   "metadata": {},
   "outputs": [
    {
     "name": "stdout",
     "output_type": "stream",
     "text": [
      "Bartlett test indicates there p_value is less than 0.05. This confirms that the test is statistically significantly and correlation matrix is not identity hence factor analysis can be conducted\n"
     ]
    },
    {
     "data": {
      "text/plain": [
       "(2719.064284917357, 0.0)"
      ]
     },
     "execution_count": 5,
     "metadata": {},
     "output_type": "execute_result"
    }
   ],
   "source": [
    "print(\"Bartlett test indicates there p_value is less than 0.05. This confirms that the test is statistically significantly and correlation matrix is not identity hence factor analysis can be conducted\")\n",
    "#step 1: Determine Factorability\n",
    "#(c). Use Barlett_sphericity Test.\n",
    "from factor_analyzer.factor_analyzer import calculate_bartlett_sphericity\n",
    "chi_square_value,p_value=calculate_bartlett_sphericity(data)\n",
    "chi_square_value,p_value"
   ]
  },
  {
   "cell_type": "code",
   "execution_count": 6,
   "id": "66176785",
   "metadata": {},
   "outputs": [
    {
     "name": "stdout",
     "output_type": "stream",
     "text": [
      "\n",
      " KMO model\n",
      " 0.5637523361233236\n"
     ]
    }
   ],
   "source": [
    "from factor_analyzer.factor_analyzer import calculate_kmo\n",
    "kmo_all,kmo_model=calculate_kmo(data)\n",
    "print(\"\\n KMO model\\n\",kmo_model)"
   ]
  },
  {
   "cell_type": "code",
   "execution_count": null,
   "id": "4c83016e",
   "metadata": {},
   "outputs": [],
   "source": [
    "   "
   ]
  }
 ],
 "metadata": {
  "kernelspec": {
   "display_name": "Python 3 (ipykernel)",
   "language": "python",
   "name": "python3"
  },
  "language_info": {
   "codemirror_mode": {
    "name": "ipython",
    "version": 3
   },
   "file_extension": ".py",
   "mimetype": "text/x-python",
   "name": "python",
   "nbconvert_exporter": "python",
   "pygments_lexer": "ipython3",
   "version": "3.9.12"
  }
 },
 "nbformat": 4,
 "nbformat_minor": 5
}
