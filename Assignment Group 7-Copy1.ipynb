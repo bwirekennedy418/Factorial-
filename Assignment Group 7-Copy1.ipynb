{
 "cells": [
  {
   "cell_type": "markdown",
   "id": "4f655c7b",
   "metadata": {},
   "source": [
    "# Problem Statement\n",
    "Makueni is experiencing an epidemiological transition in its diseases burden from communicable to non-communicable conditions resulting in the double burden of disease. In Makueni County, according to DHIS 2018, cases of hypertension recorded were 78,572 compared to 2017 cases recorded at 50,522 while diabetes cases in 2018 recorded were 21,426 compared to 12,609 in 2017.\n",
    "Management of related complications costs are alarming when considering any emergency aspects, the management of complications as well as rehabilitation costs."
   ]
  },
  {
   "cell_type": "markdown",
   "id": "54fd126d",
   "metadata": {},
   "source": [
    "# Importing Libraries:\n",
    "-For completing any task we require tools, and we have plenty of tools in python. Let’s start with importing the required libraries."
   ]
  },
  {
   "cell_type": "code",
   "execution_count": 7,
   "id": "b36165d5",
   "metadata": {},
   "outputs": [
    {
     "name": "stdout",
     "output_type": "stream",
     "text": [
      "Requirement already satisfied: imblearn in c:\\users\\ken bwire\\anaconda3\\lib\\site-packages (0.0)Note: you may need to restart the kernel to use updated packages.\n",
      "Requirement already satisfied: imbalanced-learn in c:\\users\\ken bwire\\anaconda3\\lib\\site-packages (from imblearn) (0.9.1)\n",
      "Requirement already satisfied: threadpoolctl>=2.0.0 in c:\\users\\ken bwire\\anaconda3\\lib\\site-packages (from imbalanced-learn->imblearn) (2.2.0)\n",
      "Requirement already satisfied: numpy>=1.17.3 in c:\\users\\ken bwire\\anaconda3\\lib\\site-packages (from imbalanced-learn->imblearn) (1.21.5)\n",
      "Requirement already satisfied: scipy>=1.3.2 in c:\\users\\ken bwire\\anaconda3\\lib\\site-packages (from imbalanced-learn->imblearn) (1.7.3)\n",
      "Requirement already satisfied: scikit-learn>=1.1.0 in c:\\users\\ken bwire\\anaconda3\\lib\\site-packages (from imbalanced-learn->imblearn) (1.1.2)\n",
      "Requirement already satisfied: joblib>=1.0.0 in c:\\users\\ken bwire\\anaconda3\\lib\\site-packages (from imbalanced-learn->imblearn) (1.1.0)\n",
      "\n"
     ]
    }
   ],
   "source": [
    "pip install imblearn"
   ]
  },
  {
   "cell_type": "code",
   "execution_count": 8,
   "id": "e4c3c400",
   "metadata": {},
   "outputs": [
    {
     "name": "stdout",
     "output_type": "stream",
     "text": [
      "Requirement already satisfied: xgboost in c:\\users\\ken bwire\\anaconda3\\lib\\site-packages (1.6.1)\n",
      "Requirement already satisfied: scipy in c:\\users\\ken bwire\\anaconda3\\lib\\site-packages (from xgboost) (1.7.3)\n",
      "Requirement already satisfied: numpy in c:\\users\\ken bwire\\anaconda3\\lib\\site-packages (from xgboost) (1.21.5)\n",
      "Note: you may need to restart the kernel to use updated packages.\n"
     ]
    }
   ],
   "source": [
    "pip install xgboost"
   ]
  },
  {
   "cell_type": "code",
   "execution_count": 9,
   "id": "13e29ac7",
   "metadata": {},
   "outputs": [],
   "source": [
    "import pandas as pd\n",
    "import numpy as np\n",
    "import matplotlib.pyplot as plt\n",
    "import seaborn as sns\n",
    "from sklearn.preprocessing import LabelEncoder\n",
    "from sklearn.feature_selection import SelectKBest, f_classif\n",
    "from sklearn.model_selection import train_test_split\n",
    "from sklearn.linear_model import LogisticRegression\n",
    "from sklearn.ensemble import RandomForestClassifier\n",
    "from sklearn.svm import SVC\n",
    "from xgboost import XGBClassifier\n",
    "from pandas.plotting import scatter_matrix\n",
    "from sklearn.preprocessing import StandardScaler\n",
    "from sklearn.neighbors import KNeighborsClassifier\n",
    "\n",
    "from sklearn.metrics import confusion_matrix\n",
    "from sklearn import metrics\n",
    "from sklearn.metrics import classification_report\n",
    "import warnings\n",
    "warnings.filterwarnings('ignore')\n",
    "%matplotlib inline"
   ]
  },
  {
   "cell_type": "code",
   "execution_count": 18,
   "id": "c1527b44",
   "metadata": {},
   "outputs": [
    {
     "data": {
      "text/html": [
       "<div>\n",
       "<style scoped>\n",
       "    .dataframe tbody tr th:only-of-type {\n",
       "        vertical-align: middle;\n",
       "    }\n",
       "\n",
       "    .dataframe tbody tr th {\n",
       "        vertical-align: top;\n",
       "    }\n",
       "\n",
       "    .dataframe thead th {\n",
       "        text-align: right;\n",
       "    }\n",
       "</style>\n",
       "<table border=\"1\" class=\"dataframe\">\n",
       "  <thead>\n",
       "    <tr style=\"text-align: right;\">\n",
       "      <th></th>\n",
       "      <th>Report Number</th>\n",
       "      <th>Offense ID</th>\n",
       "      <th>Offense Start DateTime</th>\n",
       "      <th>Offense End DateTime</th>\n",
       "      <th>Report DateTime</th>\n",
       "      <th>Group A B</th>\n",
       "      <th>Crime Against Category</th>\n",
       "      <th>Offense Parent Group</th>\n",
       "      <th>Offense</th>\n",
       "      <th>Offense Code</th>\n",
       "      <th>Precinct</th>\n",
       "      <th>Sector</th>\n",
       "      <th>Beat</th>\n",
       "      <th>MCPP</th>\n",
       "      <th>100 Block Address</th>\n",
       "      <th>Longitude</th>\n",
       "      <th>Latitude</th>\n",
       "    </tr>\n",
       "  </thead>\n",
       "  <tbody>\n",
       "    <tr>\n",
       "      <th>0</th>\n",
       "      <td>2020-044620</td>\n",
       "      <td>12605873663</td>\n",
       "      <td>02/05/2020 10:10:00 AM</td>\n",
       "      <td>NaN</td>\n",
       "      <td>02/05/2020 11:24:31 AM</td>\n",
       "      <td>A</td>\n",
       "      <td>SOCIETY</td>\n",
       "      <td>DRUG/NARCOTIC OFFENSES</td>\n",
       "      <td>Drug/Narcotic Violations</td>\n",
       "      <td>35A</td>\n",
       "      <td>W</td>\n",
       "      <td>Q</td>\n",
       "      <td>Q1</td>\n",
       "      <td>MAGNOLIA</td>\n",
       "      <td>32XX BLOCK OF 23RD AVE W</td>\n",
       "      <td>-122.385974</td>\n",
       "      <td>47.649387</td>\n",
       "    </tr>\n",
       "    <tr>\n",
       "      <th>1</th>\n",
       "      <td>2020-044452</td>\n",
       "      <td>12605598696</td>\n",
       "      <td>02/03/2020 08:00:00 AM</td>\n",
       "      <td>02/04/2020 08:00:00 AM</td>\n",
       "      <td>02/05/2020 10:06:28 AM</td>\n",
       "      <td>A</td>\n",
       "      <td>PROPERTY</td>\n",
       "      <td>LARCENY-THEFT</td>\n",
       "      <td>Theft of Motor Vehicle Parts or Accessories</td>\n",
       "      <td>23G</td>\n",
       "      <td>N</td>\n",
       "      <td>J</td>\n",
       "      <td>J3</td>\n",
       "      <td>ROOSEVELT/RAVENNA</td>\n",
       "      <td>63XX BLOCK OF 5TH AVE NE</td>\n",
       "      <td>-122.323399</td>\n",
       "      <td>47.675118</td>\n",
       "    </tr>\n",
       "    <tr>\n",
       "      <th>2</th>\n",
       "      <td>2020-044465</td>\n",
       "      <td>12605567653</td>\n",
       "      <td>02/02/2020 08:30:00 PM</td>\n",
       "      <td>02/02/2020 09:30:00 PM</td>\n",
       "      <td>02/05/2020 09:39:33 AM</td>\n",
       "      <td>A</td>\n",
       "      <td>PROPERTY</td>\n",
       "      <td>ROBBERY</td>\n",
       "      <td>Robbery</td>\n",
       "      <td>120</td>\n",
       "      <td>N</td>\n",
       "      <td>U</td>\n",
       "      <td>U3</td>\n",
       "      <td>ROOSEVELT/RAVENNA</td>\n",
       "      <td>26TH AVE NE / NE BLAKELEY ST</td>\n",
       "      <td>-122.299552</td>\n",
       "      <td>47.666384</td>\n",
       "    </tr>\n",
       "    <tr>\n",
       "      <th>3</th>\n",
       "      <td>2020-044225</td>\n",
       "      <td>12605174036</td>\n",
       "      <td>02/05/2020 01:17:00 AM</td>\n",
       "      <td>02/05/2020 02:21:00 AM</td>\n",
       "      <td>02/05/2020 03:30:55 AM</td>\n",
       "      <td>A</td>\n",
       "      <td>PROPERTY</td>\n",
       "      <td>DESTRUCTION/DAMAGE/VANDALISM OF PROPERTY</td>\n",
       "      <td>Destruction/Damage/Vandalism of Property</td>\n",
       "      <td>290</td>\n",
       "      <td>W</td>\n",
       "      <td>Q</td>\n",
       "      <td>Q1</td>\n",
       "      <td>MAGNOLIA</td>\n",
       "      <td>22XX BLOCK OF W RAYE ST</td>\n",
       "      <td>-122.384865</td>\n",
       "      <td>47.642927</td>\n",
       "    </tr>\n",
       "    <tr>\n",
       "      <th>4</th>\n",
       "      <td>2020-044076</td>\n",
       "      <td>12605081469</td>\n",
       "      <td>02/05/2020 12:51:21 AM</td>\n",
       "      <td>NaN</td>\n",
       "      <td>02/05/2020 12:51:31 AM</td>\n",
       "      <td>B</td>\n",
       "      <td>SOCIETY</td>\n",
       "      <td>DRIVING UNDER THE INFLUENCE</td>\n",
       "      <td>Driving Under the Influence</td>\n",
       "      <td>90D</td>\n",
       "      <td>N</td>\n",
       "      <td>B</td>\n",
       "      <td>B2</td>\n",
       "      <td>BALLARD SOUTH</td>\n",
       "      <td>NW 46TH ST / 8TH AVE NW</td>\n",
       "      <td>-122.366195</td>\n",
       "      <td>47.662193</td>\n",
       "    </tr>\n",
       "  </tbody>\n",
       "</table>\n",
       "</div>"
      ],
      "text/plain": [
       "  Report Number   Offense ID  Offense Start DateTime    Offense End DateTime  \\\n",
       "0   2020-044620  12605873663  02/05/2020 10:10:00 AM                     NaN   \n",
       "1   2020-044452  12605598696  02/03/2020 08:00:00 AM  02/04/2020 08:00:00 AM   \n",
       "2   2020-044465  12605567653  02/02/2020 08:30:00 PM  02/02/2020 09:30:00 PM   \n",
       "3   2020-044225  12605174036  02/05/2020 01:17:00 AM  02/05/2020 02:21:00 AM   \n",
       "4   2020-044076  12605081469  02/05/2020 12:51:21 AM                     NaN   \n",
       "\n",
       "          Report DateTime Group A B Crime Against Category  \\\n",
       "0  02/05/2020 11:24:31 AM         A                SOCIETY   \n",
       "1  02/05/2020 10:06:28 AM         A               PROPERTY   \n",
       "2  02/05/2020 09:39:33 AM         A               PROPERTY   \n",
       "3  02/05/2020 03:30:55 AM         A               PROPERTY   \n",
       "4  02/05/2020 12:51:31 AM         B                SOCIETY   \n",
       "\n",
       "                       Offense Parent Group  \\\n",
       "0                    DRUG/NARCOTIC OFFENSES   \n",
       "1                             LARCENY-THEFT   \n",
       "2                                   ROBBERY   \n",
       "3  DESTRUCTION/DAMAGE/VANDALISM OF PROPERTY   \n",
       "4               DRIVING UNDER THE INFLUENCE   \n",
       "\n",
       "                                       Offense Offense Code Precinct Sector  \\\n",
       "0                     Drug/Narcotic Violations          35A        W      Q   \n",
       "1  Theft of Motor Vehicle Parts or Accessories          23G        N      J   \n",
       "2                                      Robbery          120        N      U   \n",
       "3     Destruction/Damage/Vandalism of Property          290        W      Q   \n",
       "4                  Driving Under the Influence          90D        N      B   \n",
       "\n",
       "  Beat               MCPP             100 Block Address   Longitude   Latitude  \n",
       "0   Q1           MAGNOLIA      32XX BLOCK OF 23RD AVE W -122.385974  47.649387  \n",
       "1   J3  ROOSEVELT/RAVENNA      63XX BLOCK OF 5TH AVE NE -122.323399  47.675118  \n",
       "2   U3  ROOSEVELT/RAVENNA  26TH AVE NE / NE BLAKELEY ST -122.299552  47.666384  \n",
       "3   Q1           MAGNOLIA       22XX BLOCK OF W RAYE ST -122.384865  47.642927  \n",
       "4   B2      BALLARD SOUTH       NW 46TH ST / 8TH AVE NW -122.366195  47.662193  "
      ]
     },
     "execution_count": 18,
     "metadata": {},
     "output_type": "execute_result"
    }
   ],
   "source": [
    "data=pd.read_csv()\n",
    "data.head()"
   ]
  },
  {
   "cell_type": "code",
   "execution_count": 11,
   "id": "09a17799",
   "metadata": {},
   "outputs": [
    {
     "data": {
      "text/html": [
       "<div>\n",
       "<style scoped>\n",
       "    .dataframe tbody tr th:only-of-type {\n",
       "        vertical-align: middle;\n",
       "    }\n",
       "\n",
       "    .dataframe tbody tr th {\n",
       "        vertical-align: top;\n",
       "    }\n",
       "\n",
       "    .dataframe thead th {\n",
       "        text-align: right;\n",
       "    }\n",
       "</style>\n",
       "<table border=\"1\" class=\"dataframe\">\n",
       "  <thead>\n",
       "    <tr style=\"text-align: right;\">\n",
       "      <th></th>\n",
       "      <th>Report Number</th>\n",
       "      <th>Offense ID</th>\n",
       "      <th>Offense Start DateTime</th>\n",
       "      <th>Offense End DateTime</th>\n",
       "      <th>Report DateTime</th>\n",
       "      <th>Group A B</th>\n",
       "      <th>Crime Against Category</th>\n",
       "      <th>Offense Parent Group</th>\n",
       "      <th>Offense</th>\n",
       "      <th>Offense Code</th>\n",
       "      <th>Precinct</th>\n",
       "      <th>Sector</th>\n",
       "      <th>Beat</th>\n",
       "      <th>MCPP</th>\n",
       "      <th>100 Block Address</th>\n",
       "      <th>Longitude</th>\n",
       "      <th>Latitude</th>\n",
       "    </tr>\n",
       "  </thead>\n",
       "  <tbody>\n",
       "    <tr>\n",
       "      <th>1489</th>\n",
       "      <td>2020-023888</td>\n",
       "      <td>12174728130</td>\n",
       "      <td>01/20/2020 06:58:00 PM</td>\n",
       "      <td>NaN</td>\n",
       "      <td>01/20/2020 08:46:34 PM</td>\n",
       "      <td>A</td>\n",
       "      <td>PROPERTY</td>\n",
       "      <td>LARCENY-THEFT</td>\n",
       "      <td>Shoplifting</td>\n",
       "      <td>23C</td>\n",
       "      <td>W</td>\n",
       "      <td>K</td>\n",
       "      <td>K1</td>\n",
       "      <td>DOWNTOWN COMMERCIAL</td>\n",
       "      <td>9XX BLOCK OF 4TH AVE</td>\n",
       "      <td>-122.332583</td>\n",
       "      <td>47.605731</td>\n",
       "    </tr>\n",
       "    <tr>\n",
       "      <th>1490</th>\n",
       "      <td>2020-023847</td>\n",
       "      <td>12174725516</td>\n",
       "      <td>01/16/2020 12:00:00 AM</td>\n",
       "      <td>NaN</td>\n",
       "      <td>01/20/2020 08:40:59 PM</td>\n",
       "      <td>A</td>\n",
       "      <td>PROPERTY</td>\n",
       "      <td>MOTOR VEHICLE THEFT</td>\n",
       "      <td>Motor Vehicle Theft</td>\n",
       "      <td>240</td>\n",
       "      <td>N</td>\n",
       "      <td>U</td>\n",
       "      <td>U1</td>\n",
       "      <td>SANDPOINT</td>\n",
       "      <td>23XX BLOCK OF NE 88TH ST</td>\n",
       "      <td>-122.303733</td>\n",
       "      <td>47.692099</td>\n",
       "    </tr>\n",
       "    <tr>\n",
       "      <th>1491</th>\n",
       "      <td>2020-023826</td>\n",
       "      <td>12174728435</td>\n",
       "      <td>01/20/2020 01:40:00 PM</td>\n",
       "      <td>NaN</td>\n",
       "      <td>01/20/2020 08:40:34 PM</td>\n",
       "      <td>A</td>\n",
       "      <td>PROPERTY</td>\n",
       "      <td>LARCENY-THEFT</td>\n",
       "      <td>Theft From Building</td>\n",
       "      <td>23D</td>\n",
       "      <td>S</td>\n",
       "      <td>R</td>\n",
       "      <td>R2</td>\n",
       "      <td>MOUNT BAKER</td>\n",
       "      <td>28XX BLOCK OF RAINIER AVE S</td>\n",
       "      <td>-122.297836</td>\n",
       "      <td>47.577938</td>\n",
       "    </tr>\n",
       "    <tr>\n",
       "      <th>1492</th>\n",
       "      <td>2020-023859</td>\n",
       "      <td>12174673344</td>\n",
       "      <td>01/20/2020 06:27:00 PM</td>\n",
       "      <td>NaN</td>\n",
       "      <td>01/20/2020 07:36:19 PM</td>\n",
       "      <td>A</td>\n",
       "      <td>PROPERTY</td>\n",
       "      <td>LARCENY-THEFT</td>\n",
       "      <td>All Other Larceny</td>\n",
       "      <td>23H</td>\n",
       "      <td>N</td>\n",
       "      <td>L</td>\n",
       "      <td>L2</td>\n",
       "      <td>NORTHGATE</td>\n",
       "      <td>112XX BLOCK OF 5TH AVE NE</td>\n",
       "      <td>-122.323349</td>\n",
       "      <td>47.711114</td>\n",
       "    </tr>\n",
       "    <tr>\n",
       "      <th>1493</th>\n",
       "      <td>2020-023838</td>\n",
       "      <td>12174651274</td>\n",
       "      <td>01/20/2020 02:30:00 PM</td>\n",
       "      <td>01/20/2020 05:30:00 PM</td>\n",
       "      <td>01/20/2020 06:55:30 PM</td>\n",
       "      <td>A</td>\n",
       "      <td>PROPERTY</td>\n",
       "      <td>DESTRUCTION/DAMAGE/VANDALISM OF PROPERTY</td>\n",
       "      <td>Destruction/Damage/Vandalism of Property</td>\n",
       "      <td>290</td>\n",
       "      <td>N</td>\n",
       "      <td>B</td>\n",
       "      <td>B2</td>\n",
       "      <td>BALLARD SOUTH</td>\n",
       "      <td>11XX BLOCK OF NW MARKET ST</td>\n",
       "      <td>-122.372174</td>\n",
       "      <td>47.668664</td>\n",
       "    </tr>\n",
       "    <tr>\n",
       "      <th>1494</th>\n",
       "      <td>2020-023839</td>\n",
       "      <td>12174626452</td>\n",
       "      <td>01/20/2020 06:07:00 PM</td>\n",
       "      <td>NaN</td>\n",
       "      <td>01/20/2020 06:32:10 PM</td>\n",
       "      <td>A</td>\n",
       "      <td>PROPERTY</td>\n",
       "      <td>LARCENY-THEFT</td>\n",
       "      <td>Shoplifting</td>\n",
       "      <td>23C</td>\n",
       "      <td>W</td>\n",
       "      <td>M</td>\n",
       "      <td>M3</td>\n",
       "      <td>DOWNTOWN COMMERCIAL</td>\n",
       "      <td>5XX BLOCK OF PIKE ST</td>\n",
       "      <td>-122.335018</td>\n",
       "      <td>47.610909</td>\n",
       "    </tr>\n",
       "    <tr>\n",
       "      <th>1495</th>\n",
       "      <td>2020-023785</td>\n",
       "      <td>12174618231</td>\n",
       "      <td>01/20/2020 04:30:00 PM</td>\n",
       "      <td>NaN</td>\n",
       "      <td>01/20/2020 06:19:50 PM</td>\n",
       "      <td>A</td>\n",
       "      <td>PROPERTY</td>\n",
       "      <td>LARCENY-THEFT</td>\n",
       "      <td>Theft From Motor Vehicle</td>\n",
       "      <td>23F</td>\n",
       "      <td>W</td>\n",
       "      <td>M</td>\n",
       "      <td>M1</td>\n",
       "      <td>BELLTOWN</td>\n",
       "      <td>19XX BLOCK OF 2ND AVE</td>\n",
       "      <td>-122.341102</td>\n",
       "      <td>47.611349</td>\n",
       "    </tr>\n",
       "    <tr>\n",
       "      <th>1496</th>\n",
       "      <td>2020-023781</td>\n",
       "      <td>12174602509</td>\n",
       "      <td>01/20/2020 05:10:00 PM</td>\n",
       "      <td>NaN</td>\n",
       "      <td>01/20/2020 05:57:26 PM</td>\n",
       "      <td>A</td>\n",
       "      <td>PROPERTY</td>\n",
       "      <td>FRAUD OFFENSES</td>\n",
       "      <td>Credit Card/Automated Teller Machine Fraud</td>\n",
       "      <td>26B</td>\n",
       "      <td>SW</td>\n",
       "      <td>F</td>\n",
       "      <td>F3</td>\n",
       "      <td>SOUTH PARK</td>\n",
       "      <td>86XX BLOCK OF 14TH AVE S</td>\n",
       "      <td>-122.314917</td>\n",
       "      <td>47.526016</td>\n",
       "    </tr>\n",
       "    <tr>\n",
       "      <th>1497</th>\n",
       "      <td>2020-023762</td>\n",
       "      <td>12174603074</td>\n",
       "      <td>01/20/2020 03:00:00 PM</td>\n",
       "      <td>01/20/2020 05:00:00 PM</td>\n",
       "      <td>01/20/2020 05:53:39 PM</td>\n",
       "      <td>A</td>\n",
       "      <td>PROPERTY</td>\n",
       "      <td>LARCENY-THEFT</td>\n",
       "      <td>Theft From Motor Vehicle</td>\n",
       "      <td>23F</td>\n",
       "      <td>W</td>\n",
       "      <td>D</td>\n",
       "      <td>D1</td>\n",
       "      <td>BELLTOWN</td>\n",
       "      <td>2XX BLOCK OF LENORA ST</td>\n",
       "      <td>-122.342623</td>\n",
       "      <td>47.612834</td>\n",
       "    </tr>\n",
       "    <tr>\n",
       "      <th>1498</th>\n",
       "      <td>2020-023666</td>\n",
       "      <td>12174611153</td>\n",
       "      <td>01/20/2020 03:29:00 PM</td>\n",
       "      <td>01/20/2020 03:29:00 PM</td>\n",
       "      <td>01/20/2020 05:49:40 PM</td>\n",
       "      <td>A</td>\n",
       "      <td>PROPERTY</td>\n",
       "      <td>LARCENY-THEFT</td>\n",
       "      <td>Theft From Building</td>\n",
       "      <td>23D</td>\n",
       "      <td>E</td>\n",
       "      <td>E</td>\n",
       "      <td>E2</td>\n",
       "      <td>CAPITOL HILL</td>\n",
       "      <td>10XX BLOCK OF E PIKE ST</td>\n",
       "      <td>-122.318794</td>\n",
       "      <td>47.614090</td>\n",
       "    </tr>\n",
       "  </tbody>\n",
       "</table>\n",
       "</div>"
      ],
      "text/plain": [
       "     Report Number   Offense ID  Offense Start DateTime  \\\n",
       "1489   2020-023888  12174728130  01/20/2020 06:58:00 PM   \n",
       "1490   2020-023847  12174725516  01/16/2020 12:00:00 AM   \n",
       "1491   2020-023826  12174728435  01/20/2020 01:40:00 PM   \n",
       "1492   2020-023859  12174673344  01/20/2020 06:27:00 PM   \n",
       "1493   2020-023838  12174651274  01/20/2020 02:30:00 PM   \n",
       "1494   2020-023839  12174626452  01/20/2020 06:07:00 PM   \n",
       "1495   2020-023785  12174618231  01/20/2020 04:30:00 PM   \n",
       "1496   2020-023781  12174602509  01/20/2020 05:10:00 PM   \n",
       "1497   2020-023762  12174603074  01/20/2020 03:00:00 PM   \n",
       "1498   2020-023666  12174611153  01/20/2020 03:29:00 PM   \n",
       "\n",
       "        Offense End DateTime         Report DateTime Group A B  \\\n",
       "1489                     NaN  01/20/2020 08:46:34 PM         A   \n",
       "1490                     NaN  01/20/2020 08:40:59 PM         A   \n",
       "1491                     NaN  01/20/2020 08:40:34 PM         A   \n",
       "1492                     NaN  01/20/2020 07:36:19 PM         A   \n",
       "1493  01/20/2020 05:30:00 PM  01/20/2020 06:55:30 PM         A   \n",
       "1494                     NaN  01/20/2020 06:32:10 PM         A   \n",
       "1495                     NaN  01/20/2020 06:19:50 PM         A   \n",
       "1496                     NaN  01/20/2020 05:57:26 PM         A   \n",
       "1497  01/20/2020 05:00:00 PM  01/20/2020 05:53:39 PM         A   \n",
       "1498  01/20/2020 03:29:00 PM  01/20/2020 05:49:40 PM         A   \n",
       "\n",
       "     Crime Against Category                      Offense Parent Group  \\\n",
       "1489               PROPERTY                             LARCENY-THEFT   \n",
       "1490               PROPERTY                       MOTOR VEHICLE THEFT   \n",
       "1491               PROPERTY                             LARCENY-THEFT   \n",
       "1492               PROPERTY                             LARCENY-THEFT   \n",
       "1493               PROPERTY  DESTRUCTION/DAMAGE/VANDALISM OF PROPERTY   \n",
       "1494               PROPERTY                             LARCENY-THEFT   \n",
       "1495               PROPERTY                             LARCENY-THEFT   \n",
       "1496               PROPERTY                            FRAUD OFFENSES   \n",
       "1497               PROPERTY                             LARCENY-THEFT   \n",
       "1498               PROPERTY                             LARCENY-THEFT   \n",
       "\n",
       "                                         Offense Offense Code Precinct Sector  \\\n",
       "1489                                 Shoplifting          23C        W      K   \n",
       "1490                         Motor Vehicle Theft          240        N      U   \n",
       "1491                         Theft From Building          23D        S      R   \n",
       "1492                           All Other Larceny          23H        N      L   \n",
       "1493    Destruction/Damage/Vandalism of Property          290        N      B   \n",
       "1494                                 Shoplifting          23C        W      M   \n",
       "1495                    Theft From Motor Vehicle          23F        W      M   \n",
       "1496  Credit Card/Automated Teller Machine Fraud          26B       SW      F   \n",
       "1497                    Theft From Motor Vehicle          23F        W      D   \n",
       "1498                         Theft From Building          23D        E      E   \n",
       "\n",
       "     Beat                 MCPP            100 Block Address   Longitude  \\\n",
       "1489   K1  DOWNTOWN COMMERCIAL         9XX BLOCK OF 4TH AVE -122.332583   \n",
       "1490   U1            SANDPOINT     23XX BLOCK OF NE 88TH ST -122.303733   \n",
       "1491   R2          MOUNT BAKER  28XX BLOCK OF RAINIER AVE S -122.297836   \n",
       "1492   L2            NORTHGATE    112XX BLOCK OF 5TH AVE NE -122.323349   \n",
       "1493   B2        BALLARD SOUTH   11XX BLOCK OF NW MARKET ST -122.372174   \n",
       "1494   M3  DOWNTOWN COMMERCIAL         5XX BLOCK OF PIKE ST -122.335018   \n",
       "1495   M1             BELLTOWN        19XX BLOCK OF 2ND AVE -122.341102   \n",
       "1496   F3           SOUTH PARK     86XX BLOCK OF 14TH AVE S -122.314917   \n",
       "1497   D1             BELLTOWN       2XX BLOCK OF LENORA ST -122.342623   \n",
       "1498   E2         CAPITOL HILL      10XX BLOCK OF E PIKE ST -122.318794   \n",
       "\n",
       "       Latitude  \n",
       "1489  47.605731  \n",
       "1490  47.692099  \n",
       "1491  47.577938  \n",
       "1492  47.711114  \n",
       "1493  47.668664  \n",
       "1494  47.610909  \n",
       "1495  47.611349  \n",
       "1496  47.526016  \n",
       "1497  47.612834  \n",
       "1498  47.614090  "
      ]
     },
     "execution_count": 11,
     "metadata": {},
     "output_type": "execute_result"
    }
   ],
   "source": [
    "data.tail(10)"
   ]
  },
  {
   "cell_type": "code",
   "execution_count": 12,
   "id": "5dc06142",
   "metadata": {},
   "outputs": [
    {
     "name": "stdout",
     "output_type": "stream",
     "text": [
      "<class 'pandas.core.frame.DataFrame'>\n",
      "RangeIndex: 1499 entries, 0 to 1498\n",
      "Data columns (total 17 columns):\n",
      " #   Column                  Non-Null Count  Dtype  \n",
      "---  ------                  --------------  -----  \n",
      " 0   Report Number           1499 non-null   object \n",
      " 1   Offense ID              1499 non-null   int64  \n",
      " 2   Offense Start DateTime  1499 non-null   object \n",
      " 3   Offense End DateTime    1139 non-null   object \n",
      " 4   Report DateTime         1499 non-null   object \n",
      " 5   Group A B               1499 non-null   object \n",
      " 6   Crime Against Category  1499 non-null   object \n",
      " 7   Offense Parent Group    1499 non-null   object \n",
      " 8   Offense                 1499 non-null   object \n",
      " 9   Offense Code            1499 non-null   object \n",
      " 10  Precinct                1499 non-null   object \n",
      " 11  Sector                  1499 non-null   object \n",
      " 12  Beat                    1499 non-null   object \n",
      " 13  MCPP                    1499 non-null   object \n",
      " 14  100 Block Address       1475 non-null   object \n",
      " 15  Longitude               1499 non-null   float64\n",
      " 16  Latitude                1499 non-null   float64\n",
      "dtypes: float64(2), int64(1), object(14)\n",
      "memory usage: 199.2+ KB\n"
     ]
    },
    {
     "data": {
      "text/html": [
       "<div>\n",
       "<style scoped>\n",
       "    .dataframe tbody tr th:only-of-type {\n",
       "        vertical-align: middle;\n",
       "    }\n",
       "\n",
       "    .dataframe tbody tr th {\n",
       "        vertical-align: top;\n",
       "    }\n",
       "\n",
       "    .dataframe thead th {\n",
       "        text-align: right;\n",
       "    }\n",
       "</style>\n",
       "<table border=\"1\" class=\"dataframe\">\n",
       "  <thead>\n",
       "    <tr style=\"text-align: right;\">\n",
       "      <th></th>\n",
       "      <th>Offense ID</th>\n",
       "      <th>Longitude</th>\n",
       "      <th>Latitude</th>\n",
       "    </tr>\n",
       "  </thead>\n",
       "  <tbody>\n",
       "    <tr>\n",
       "      <th>count</th>\n",
       "      <td>1.499000e+03</td>\n",
       "      <td>1499.000000</td>\n",
       "      <td>1499.000000</td>\n",
       "    </tr>\n",
       "    <tr>\n",
       "      <th>mean</th>\n",
       "      <td>1.238166e+10</td>\n",
       "      <td>-120.375458</td>\n",
       "      <td>46.859243</td>\n",
       "    </tr>\n",
       "    <tr>\n",
       "      <th>std</th>\n",
       "      <td>1.653123e+08</td>\n",
       "      <td>15.360073</td>\n",
       "      <td>5.979514</td>\n",
       "    </tr>\n",
       "    <tr>\n",
       "      <th>min</th>\n",
       "      <td>1.217460e+10</td>\n",
       "      <td>-122.414924</td>\n",
       "      <td>0.000000</td>\n",
       "    </tr>\n",
       "    <tr>\n",
       "      <th>25%</th>\n",
       "      <td>1.222136e+10</td>\n",
       "      <td>-122.354408</td>\n",
       "      <td>47.590764</td>\n",
       "    </tr>\n",
       "    <tr>\n",
       "      <th>50%</th>\n",
       "      <td>1.233854e+10</td>\n",
       "      <td>-122.333200</td>\n",
       "      <td>47.615703</td>\n",
       "    </tr>\n",
       "    <tr>\n",
       "      <th>75%</th>\n",
       "      <td>1.259569e+10</td>\n",
       "      <td>-122.315473</td>\n",
       "      <td>47.663118</td>\n",
       "    </tr>\n",
       "    <tr>\n",
       "      <th>max</th>\n",
       "      <td>1.260587e+10</td>\n",
       "      <td>0.000000</td>\n",
       "      <td>47.732139</td>\n",
       "    </tr>\n",
       "  </tbody>\n",
       "</table>\n",
       "</div>"
      ],
      "text/plain": [
       "         Offense ID    Longitude     Latitude\n",
       "count  1.499000e+03  1499.000000  1499.000000\n",
       "mean   1.238166e+10  -120.375458    46.859243\n",
       "std    1.653123e+08    15.360073     5.979514\n",
       "min    1.217460e+10  -122.414924     0.000000\n",
       "25%    1.222136e+10  -122.354408    47.590764\n",
       "50%    1.233854e+10  -122.333200    47.615703\n",
       "75%    1.259569e+10  -122.315473    47.663118\n",
       "max    1.260587e+10     0.000000    47.732139"
      ]
     },
     "execution_count": 12,
     "metadata": {},
     "output_type": "execute_result"
    }
   ],
   "source": [
    "## Displaying top 10 rows\n",
    "data.info()\n",
    "## Showing information about datase\n",
    "data.describe()\n",
    "## Showing data's statistical features)"
   ]
  },
  {
   "cell_type": "code",
   "execution_count": 16,
   "id": "08d86bbd",
   "metadata": {},
   "outputs": [
    {
     "ename": "KeyError",
     "evalue": "'SOCIETY'",
     "output_type": "error",
     "traceback": [
      "\u001b[1;31m---------------------------------------------------------------------------\u001b[0m",
      "\u001b[1;31mKeyError\u001b[0m                                  Traceback (most recent call last)",
      "File \u001b[1;32m~\\anaconda3\\lib\\site-packages\\pandas\\core\\indexes\\base.py:3621\u001b[0m, in \u001b[0;36mIndex.get_loc\u001b[1;34m(self, key, method, tolerance)\u001b[0m\n\u001b[0;32m   3620\u001b[0m \u001b[38;5;28;01mtry\u001b[39;00m:\n\u001b[1;32m-> 3621\u001b[0m     \u001b[38;5;28;01mreturn\u001b[39;00m \u001b[38;5;28;43mself\u001b[39;49m\u001b[38;5;241;43m.\u001b[39;49m\u001b[43m_engine\u001b[49m\u001b[38;5;241;43m.\u001b[39;49m\u001b[43mget_loc\u001b[49m\u001b[43m(\u001b[49m\u001b[43mcasted_key\u001b[49m\u001b[43m)\u001b[49m\n\u001b[0;32m   3622\u001b[0m \u001b[38;5;28;01mexcept\u001b[39;00m \u001b[38;5;167;01mKeyError\u001b[39;00m \u001b[38;5;28;01mas\u001b[39;00m err:\n",
      "File \u001b[1;32m~\\anaconda3\\lib\\site-packages\\pandas\\_libs\\index.pyx:136\u001b[0m, in \u001b[0;36mpandas._libs.index.IndexEngine.get_loc\u001b[1;34m()\u001b[0m\n",
      "File \u001b[1;32m~\\anaconda3\\lib\\site-packages\\pandas\\_libs\\index.pyx:163\u001b[0m, in \u001b[0;36mpandas._libs.index.IndexEngine.get_loc\u001b[1;34m()\u001b[0m\n",
      "File \u001b[1;32mpandas\\_libs\\hashtable_class_helper.pxi:5198\u001b[0m, in \u001b[0;36mpandas._libs.hashtable.PyObjectHashTable.get_item\u001b[1;34m()\u001b[0m\n",
      "File \u001b[1;32mpandas\\_libs\\hashtable_class_helper.pxi:5206\u001b[0m, in \u001b[0;36mpandas._libs.hashtable.PyObjectHashTable.get_item\u001b[1;34m()\u001b[0m\n",
      "\u001b[1;31mKeyError\u001b[0m: 'SOCIETY'",
      "\nThe above exception was the direct cause of the following exception:\n",
      "\u001b[1;31mKeyError\u001b[0m                                  Traceback (most recent call last)",
      "Input \u001b[1;32mIn [16]\u001b[0m, in \u001b[0;36m<cell line: 1>\u001b[1;34m()\u001b[0m\n\u001b[1;32m----> 1\u001b[0m \u001b[38;5;28mprint\u001b[39m(\u001b[38;5;124m'\u001b[39m\u001b[38;5;124mUnique values\u001b[39m\u001b[38;5;130;01m\\n\u001b[39;00m\u001b[38;5;124m'\u001b[39m,\u001b[43mdata\u001b[49m\u001b[43m[\u001b[49m\u001b[38;5;124;43m'\u001b[39;49m\u001b[38;5;124;43mSOCIETY\u001b[39;49m\u001b[38;5;124;43m'\u001b[39;49m\u001b[43m]\u001b[49m\u001b[38;5;241m.\u001b[39munique())\n\u001b[0;32m      2\u001b[0m \u001b[38;5;28mprint\u001b[39m(\u001b[38;5;124m'\u001b[39m\u001b[38;5;124mValue Counts\u001b[39m\u001b[38;5;130;01m\\n\u001b[39;00m\u001b[38;5;124m'\u001b[39m,data[\u001b[38;5;124m'\u001b[39m\u001b[38;5;124msex\u001b[39m\u001b[38;5;124m'\u001b[39m]\u001b[38;5;241m.\u001b[39mvalue_counts())\n\u001b[0;32m      3\u001b[0m \u001b[38;5;66;03m# Above codes will help to give us information about it's unique values and count of each value.\u001b[39;00m\n",
      "File \u001b[1;32m~\\anaconda3\\lib\\site-packages\\pandas\\core\\frame.py:3505\u001b[0m, in \u001b[0;36mDataFrame.__getitem__\u001b[1;34m(self, key)\u001b[0m\n\u001b[0;32m   3503\u001b[0m \u001b[38;5;28;01mif\u001b[39;00m \u001b[38;5;28mself\u001b[39m\u001b[38;5;241m.\u001b[39mcolumns\u001b[38;5;241m.\u001b[39mnlevels \u001b[38;5;241m>\u001b[39m \u001b[38;5;241m1\u001b[39m:\n\u001b[0;32m   3504\u001b[0m     \u001b[38;5;28;01mreturn\u001b[39;00m \u001b[38;5;28mself\u001b[39m\u001b[38;5;241m.\u001b[39m_getitem_multilevel(key)\n\u001b[1;32m-> 3505\u001b[0m indexer \u001b[38;5;241m=\u001b[39m \u001b[38;5;28;43mself\u001b[39;49m\u001b[38;5;241;43m.\u001b[39;49m\u001b[43mcolumns\u001b[49m\u001b[38;5;241;43m.\u001b[39;49m\u001b[43mget_loc\u001b[49m\u001b[43m(\u001b[49m\u001b[43mkey\u001b[49m\u001b[43m)\u001b[49m\n\u001b[0;32m   3506\u001b[0m \u001b[38;5;28;01mif\u001b[39;00m is_integer(indexer):\n\u001b[0;32m   3507\u001b[0m     indexer \u001b[38;5;241m=\u001b[39m [indexer]\n",
      "File \u001b[1;32m~\\anaconda3\\lib\\site-packages\\pandas\\core\\indexes\\base.py:3623\u001b[0m, in \u001b[0;36mIndex.get_loc\u001b[1;34m(self, key, method, tolerance)\u001b[0m\n\u001b[0;32m   3621\u001b[0m     \u001b[38;5;28;01mreturn\u001b[39;00m \u001b[38;5;28mself\u001b[39m\u001b[38;5;241m.\u001b[39m_engine\u001b[38;5;241m.\u001b[39mget_loc(casted_key)\n\u001b[0;32m   3622\u001b[0m \u001b[38;5;28;01mexcept\u001b[39;00m \u001b[38;5;167;01mKeyError\u001b[39;00m \u001b[38;5;28;01mas\u001b[39;00m err:\n\u001b[1;32m-> 3623\u001b[0m     \u001b[38;5;28;01mraise\u001b[39;00m \u001b[38;5;167;01mKeyError\u001b[39;00m(key) \u001b[38;5;28;01mfrom\u001b[39;00m \u001b[38;5;21;01merr\u001b[39;00m\n\u001b[0;32m   3624\u001b[0m \u001b[38;5;28;01mexcept\u001b[39;00m \u001b[38;5;167;01mTypeError\u001b[39;00m:\n\u001b[0;32m   3625\u001b[0m     \u001b[38;5;66;03m# If we have a listlike key, _check_indexing_error will raise\u001b[39;00m\n\u001b[0;32m   3626\u001b[0m     \u001b[38;5;66;03m#  InvalidIndexError. Otherwise we fall through and re-raise\u001b[39;00m\n\u001b[0;32m   3627\u001b[0m     \u001b[38;5;66;03m#  the TypeError.\u001b[39;00m\n\u001b[0;32m   3628\u001b[0m     \u001b[38;5;28mself\u001b[39m\u001b[38;5;241m.\u001b[39m_check_indexing_error(key)\n",
      "\u001b[1;31mKeyError\u001b[0m: 'SOCIETY'"
     ]
    }
   ],
   "source": [
    "print('Unique values\\n',data['SOCIETY'].unique())\n",
    "print('Value Counts\\n',data['sex'].value_counts())\n",
    "# Above codes will help to give us information about it's unique values and count of each value.\n",
    "\n",
    "sns.countplot(data=data,x='SOCIETY')\n",
    "# Helps to plot a count plot which will help us to see count of values in each unique category.\n",
    "sns.countplot(data=data,x='SOCIETY',hue='MCCP')\n",
    "# This plot will help to analyze how sex will affect chances of Diagnosis/type of hypertension and Diabetes."
   ]
  },
  {
   "cell_type": "code",
   "execution_count": null,
   "id": "be6732ab",
   "metadata": {},
   "outputs": [],
   "source": [
    "print('Unique Value\\n',data['Location'].unique())\n",
    "print('Value Counts\\n',data['Location'].value_counts())\n",
    "# Above code will return unique value for Location/cluster/ward/village name attribute and its value counts\n",
    "sns.countplot(data=data,x='Location')\n",
    "#Will plot a counter plot of variable Location/Cluster/Ward/Village. "
   ]
  },
  {
   "cell_type": "code",
   "execution_count": null,
   "id": "126d9403",
   "metadata": {},
   "outputs": [],
   "source": [
    "print('Unique Value\\n',data['Education'].unique())\n",
    "print('Value Counts\\n',data['Education'].value_counts())\n",
    "# Above code will return unique value for Education level attribute and its value counts\n",
    "sns.countplot(data=data,x='Education')\n",
    "# Will plot a counter plot of variable Location/Cluster/Ward/Village. "
   ]
  },
  {
   "cell_type": "code",
   "execution_count": null,
   "id": "42bd32af",
   "metadata": {},
   "outputs": [],
   "source": [
    "print('Unique Value\\n',data['Frequency of clinic visit'].unique())\n",
    "print('Value Counts\\n',data['Frequency of clinic visit'].value_counts())\n",
    "# Above code will return unique values of attributes and its count\n",
    "sns.countplot(data=data,x='Frequency of clinic visit')\n",
    "# Above code will create a count plot\n",
    "sns.countplot(data=data,x='Frequency of clinic visit',hue='Diagnosis')\n",
    "# Above code will create a count plot with respect to Diagnosis/type of hypertension and Diabetes"
   ]
  },
  {
   "cell_type": "code",
   "execution_count": null,
   "id": "c3346b05",
   "metadata": {},
   "outputs": [],
   "source": [
    "print('Unique Values\\n',data['Weight'].unique())\n",
    "print(\"Value Counts\\n\",data['Weight'].value_counts())\n",
    "# Above code will return unique values of variable and its count\n",
    "sns.countplot(data=data,x='Weight')\n",
    "# This will create a counter plot\n",
    "sns.countplot(data=data,x='Weight',hue='Diagnosis')\n",
    "# Weight with respect to Diagnosis/type of hypertension and Diabetes"
   ]
  },
  {
   "cell_type": "code",
   "execution_count": null,
   "id": "22de9994",
   "metadata": {},
   "outputs": [],
   "source": [
    "data['BMI'].nunique()\n",
    "# Number of unique values\n",
    "sns.displot(data['BMI'])\n",
    "# Distribution of avg_glucose_level\n",
    "sns.boxplot(data=data,x='Diagnosis',y='BMI')\n",
    "# BMI and Diagnosis/type of hypertension and Diabetes"
   ]
  },
  {
   "cell_type": "code",
   "execution_count": null,
   "id": "a0f7dc39",
   "metadata": {},
   "outputs": [],
   "source": [
    "data['BMI'].isna().sum()\n",
    "# Returns number null values\n",
    "data['BMI'].fillna(data['BMI'].mean(),inplace=True)\n",
    "# Filling null values with average value\n",
    "data['BMI'].nunique()\n",
    "# Returns number of unique values in that attribute\n",
    "sns.displot(data['BMI'])\n",
    "# Distribution of bmi"
   ]
  },
  {
   "cell_type": "code",
   "execution_count": null,
   "id": "cbcd924c",
   "metadata": {},
   "outputs": [],
   "source": [
    "print('Unique Values\\n',data['BP Systolic'].unique())\n",
    "print('Value Counts\\n',data['BP Systolic'].value_counts())\n",
    "# Returns unique values and its count\n",
    "sns.countplot(data=data,x='BP Systolic')\n",
    "# Count plot of smoking status\n",
    "sns.countplot(data=data,x='BP Systolic',hue='Diagnosis')\n",
    "# BP Systolic with respect to Diagnosis/type of hypertension and Diabetes."
   ]
  },
  {
   "cell_type": "code",
   "execution_count": null,
   "id": "abb9af1f",
   "metadata": {},
   "outputs": [],
   "source": [
    "print('Unique Values\\n',data['BP Diastolic'].unique())\n",
    "print('Value Counts\\n',data['BP Diastolic'].value_counts())\n",
    "# Returns unique values and its count\n",
    "sns.countplot(data=data,x='BP Diastolic')\n",
    "# Count plot of BP Diastolic\n",
    "sns.countplot(data=data,x='BP Diastolic',hue='Diagnosis')\n",
    "# BP Diastolic with respect to Diagnosis/type of hypertension and Diabetes"
   ]
  },
  {
   "cell_type": "code",
   "execution_count": null,
   "id": "473d4663",
   "metadata": {},
   "outputs": [],
   "source": [
    "print('Unique Value\\n',data['Diagnosis'].unique())\n",
    "print('Value Counts\\n',data['Diagnosis'].value_counts())\n",
    "# Returns Unique Value and its count\n",
    "sns.countplot(data=data,x='Diagnosis')\n",
    "# Count Plot of Diagnosis/type of hypertension and Diabetes"
   ]
  },
  {
   "cell_type": "code",
   "execution_count": null,
   "id": "680d6f7d",
   "metadata": {},
   "outputs": [],
   "source": [
    "cols=data.select_dtypes(include=['object']).columns\n",
    "print(cols)\n",
    "# This code will fetech columns whose data type is object.\n",
    "le=LabelEncoder()\n",
    "# Initializing our Label Encoder object\n",
    "data[cols]=data[cols].apply(le.fit_transform)\n",
    "# Transfering categorical data into numeric\n",
    "print(data.head(10))"
   ]
  },
  {
   "cell_type": "code",
   "execution_count": null,
   "id": "b9327eb1",
   "metadata": {},
   "outputs": [],
   "source": [
    "plt.figure(figsize=(12,10))\n",
    "# seaborn has an easy method to showcase heatmap\n",
    "p = sns.heatmap(data.corr(), annot=True,cmap ='RdYlGn')"
   ]
  },
  {
   "cell_type": "code",
   "execution_count": null,
   "id": "c137107c",
   "metadata": {},
   "outputs": [],
   "source": [
    "p = data.hist(figsize = (20,20))"
   ]
  },
  {
   "cell_type": "code",
   "execution_count": null,
   "id": "6a831eaf",
   "metadata": {},
   "outputs": [],
   "source": [
    "classifier = SelectKBest(score_func=f_classif,k=5)\n",
    "fits = classifier.fit(data.drop('Diagnosis',axis=1),data['Diagnosis'])\n",
    "x=pd.DataFrame(fits.scores_)\n",
    "columns = pd.DataFrame(data.drop('Diagnosis',axis=1).columns)\n",
    "fscores = pd.concat([columns,x],axis=1)\n",
    "fscores.columns = ['Attribute','Score']\n",
    "fscores.sort_values(by='Score',ascending=False)"
   ]
  },
  {
   "cell_type": "markdown",
   "id": "651f100e",
   "metadata": {},
   "source": [
    "# Scaling the Data\n",
    "Before scaling down the data let’s have a look into it"
   ]
  },
  {
   "cell_type": "code",
   "execution_count": null,
   "id": "7f5801ff",
   "metadata": {},
   "outputs": [],
   "source": [
    "data.head()"
   ]
  },
  {
   "cell_type": "code",
   "execution_count": null,
   "id": "86d7d867",
   "metadata": {},
   "outputs": [],
   "source": [
    "# After scaling the data"
   ]
  },
  {
   "cell_type": "code",
   "execution_count": null,
   "id": "e379b6eb",
   "metadata": {},
   "outputs": [],
   "source": [
    "from sklearn.preprocessing import StandardScaler"
   ]
  },
  {
   "cell_type": "code",
   "execution_count": null,
   "id": "66f3e41a",
   "metadata": {},
   "outputs": [],
   "source": [
    "sc_X = StandardScaler()\n",
    "X =  pd.DataFrame(sc_X.fit_transform(data.drop([\"Diagnosis\"],axis = 1),), columns=['sex', \n",
    "'Age', 'Location', 'Frequency of clinic visit', 'Education','Weight','BMI', 'BP Diastolic', 'BP Systolic'])\n",
    "X.head()"
   ]
  },
  {
   "cell_type": "code",
   "execution_count": null,
   "id": "085226bd",
   "metadata": {},
   "outputs": [],
   "source": [
    "y=data['Diagnosis']\n",
    "y"
   ]
  },
  {
   "cell_type": "markdown",
   "id": "f83db9be",
   "metadata": {},
   "source": [
    "# Modelling Building \n",
    "Splitting the dataset"
   ]
  },
  {
   "cell_type": "code",
   "execution_count": null,
   "id": "2da06087",
   "metadata": {},
   "outputs": [],
   "source": [
    "X = data.drop('Diagnosis', axis=1)\n",
    "y = data['Diagnosis']"
   ]
  },
  {
   "cell_type": "markdown",
   "id": "7e355374",
   "metadata": {},
   "source": [
    "#Split the data into training and testing data using the train_test_split function"
   ]
  },
  {
   "cell_type": "code",
   "execution_count": null,
   "id": "57f1be9b",
   "metadata": {},
   "outputs": [],
   "source": [
    "from sklearn.model_selection import train_test_split\n",
    "#Splitting the data\n",
    "X_train, X_test, y_train, y_test = train_test_split(X,y, test_size=0.33,random_state=7)\n",
    "#Shape of the data\n",
    "X_train.shape,X_test.shape,y_train.shape,y_test.shape\n",
    "# Shape of data"
   ]
  },
  {
   "cell_type": "markdown",
   "id": "732b9782",
   "metadata": {},
   "source": [
    "# Random Forest\n",
    "Building the model using Random Forest"
   ]
  },
  {
   "cell_type": "code",
   "execution_count": null,
   "id": "d0bb3465",
   "metadata": {},
   "outputs": [],
   "source": [
    "from sklearn.ensemble import RandomForestClassifier\n",
    "\n",
    "rfc = RandomForestClassifier(n_estimators=200)\n",
    "#Fit the model\n",
    "rfc.fit(X_train, y_train)"
   ]
  },
  {
   "cell_type": "markdown",
   "id": "a92f36fb",
   "metadata": {},
   "source": [
    "#Building the model let’s check the accuracy of the model on the training dataset"
   ]
  },
  {
   "cell_type": "code",
   "execution_count": null,
   "id": "7dad5a18",
   "metadata": {},
   "outputs": [],
   "source": [
    "print(\"Here we can see that on the training dataset our model is overfitted.\")\n",
    "rfc_train = rfc.predict(X_train)\n",
    "from sklearn import metrics\n",
    "\n",
    "print(\"Accuracy_Score =\", format(metrics.accuracy_score(y_train, rfc_train)))"
   ]
  },
  {
   "cell_type": "markdown",
   "id": "f0e3afe8",
   "metadata": {},
   "source": [
    "# Getting the accuracy score for Random Forest"
   ]
  },
  {
   "cell_type": "code",
   "execution_count": null,
   "id": "e35ed623",
   "metadata": {},
   "outputs": [],
   "source": [
    "from sklearn import metrics\n",
    "\n",
    "predictions = rfc.predict(X_test)\n",
    "print(\"Accuracy_Score =\", format(metrics.accuracy_score(y_test, predictions)))"
   ]
  },
  {
   "cell_type": "markdown",
   "id": "09e23c32",
   "metadata": {},
   "source": [
    "# Classification report and confusion matrix of random forest model"
   ]
  },
  {
   "cell_type": "code",
   "execution_count": null,
   "id": "8c2a6793",
   "metadata": {},
   "outputs": [],
   "source": [
    "from sklearn.metrics import classification_report, confusion_matrix\n",
    "\n",
    "print(confusion_matrix(y_test, predictions))\n",
    "print(classification_report(y_test,predictions))"
   ]
  },
  {
   "cell_type": "markdown",
   "id": "ee73559c",
   "metadata": {},
   "source": [
    "# Decision Tree\n",
    "Building the model using DecisionTree"
   ]
  },
  {
   "cell_type": "code",
   "execution_count": null,
   "id": "75c92dad",
   "metadata": {},
   "outputs": [],
   "source": [
    "from sklearn.tree import DecisionTreeClassifier\n",
    "\n",
    "dtree = DecisionTreeClassifier()\n",
    "dtree.fit(X_train, y_train)"
   ]
  },
  {
   "cell_type": "markdown",
   "id": "a477a453",
   "metadata": {},
   "source": [
    "# Getting the accuracy score for Decision Tree"
   ]
  },
  {
   "cell_type": "code",
   "execution_count": null,
   "id": "921bbd0f",
   "metadata": {},
   "outputs": [],
   "source": [
    "from sklearn import metrics\n",
    "\n",
    "predictions = dtree.predict(X_test)\n",
    "print(\"Accuracy Score =\", format(metrics.accuracy_score(y_test,predictions)))"
   ]
  },
  {
   "cell_type": "markdown",
   "id": "c3178260",
   "metadata": {},
   "source": [
    "# Classification report and confusion matrix of the decision tree model"
   ]
  },
  {
   "cell_type": "code",
   "execution_count": null,
   "id": "292be534",
   "metadata": {},
   "outputs": [],
   "source": [
    "from xgboost import XGBClassifier\n",
    "\n",
    "xgb_model = XGBClassifier(gamma=0)\n",
    "xgb_model.fit(X_train, y_train)"
   ]
  },
  {
   "cell_type": "code",
   "execution_count": null,
   "id": "b93bc0d7",
   "metadata": {},
   "outputs": [],
   "source": [
    "from sklearn.metrics import classification_report, confusion_matrix\n",
    "\n",
    "print(confusion_matrix(y_test, xgb_pred))\n",
    "print(classification_report(y_test,xgb_pred))"
   ]
  },
  {
   "cell_type": "markdown",
   "id": "3eef8c8c",
   "metadata": {},
   "source": [
    "# XgBoost classifier\n",
    "Building model using XGBoost"
   ]
  },
  {
   "cell_type": "markdown",
   "id": "d0db43b0",
   "metadata": {},
   "source": [
    "# Getting the accuracy score for the XgBoost classifier"
   ]
  },
  {
   "cell_type": "code",
   "execution_count": null,
   "id": "09f79301",
   "metadata": {},
   "outputs": [],
   "source": [
    "from sklearn import metrics\n",
    "\n",
    "xgb_pred = xgb_model.predict(X_test)\n",
    "print(\"Accuracy Score =\", format(metrics.accuracy_score(y_test, xgb_pred)))"
   ]
  },
  {
   "cell_type": "markdown",
   "id": "6879e414",
   "metadata": {},
   "source": [
    "# Classification report and confusion matrix of the XgBoost classifier"
   ]
  },
  {
   "cell_type": "code",
   "execution_count": null,
   "id": "28a2876b",
   "metadata": {},
   "outputs": [],
   "source": [
    "from sklearn.metrics import classification_report, confusion_matrix\n",
    "\n",
    "print(confusion_matrix(y_test, xgb_pred))\n",
    "print(classification_report(y_test,xgb_pred))"
   ]
  },
  {
   "cell_type": "markdown",
   "id": "a4384aaf",
   "metadata": {},
   "source": [
    "# Support Vector Machine (SVM)\n",
    "Building the model using Support Vector Machine (SVM)"
   ]
  },
  {
   "cell_type": "code",
   "execution_count": null,
   "id": "73f5bbe6",
   "metadata": {},
   "outputs": [],
   "source": [
    "from sklearn.svm import SVC\n",
    "\n",
    "svc_model = SVC()\n",
    "svc_model.fit(X_train, y_train)"
   ]
  },
  {
   "cell_type": "code",
   "execution_count": null,
   "id": "71bc655d",
   "metadata": {},
   "outputs": [],
   "source": [
    "#Prediction from support vector machine model on the testing data\n",
    "\n",
    "svc_pred = svc_model.predict(X_test)"
   ]
  },
  {
   "cell_type": "code",
   "execution_count": null,
   "id": "ec3fb330",
   "metadata": {},
   "outputs": [],
   "source": [
    "# Accuracy score for SVM\n",
    "\n",
    "from sklearn import metrics\n",
    "\n",
    "print(\"Accuracy Score =\", format(metrics.accuracy_score(y_test, svc_pred)))"
   ]
  },
  {
   "cell_type": "code",
   "execution_count": null,
   "id": "1529502f",
   "metadata": {},
   "outputs": [],
   "source": [
    "# Classification report and confusion matrix of the SVM classifier\n",
    "\n",
    "from sklearn.metrics import classification_report, confusion_matrix\n",
    "\n",
    "print(confusion_matrix(y_test, svc_pred))\n",
    "print(classification_report(y_test,svc_pred))"
   ]
  },
  {
   "cell_type": "markdown",
   "id": "0bd36976",
   "metadata": {},
   "source": [
    "# The Conclusion from Model Building\n",
    "Therefore Random forest is the best model for this prediction since it has an accuracy_score of 0.73."
   ]
  },
  {
   "cell_type": "markdown",
   "id": "2a97d6ae",
   "metadata": {},
   "source": [
    "# Feature Importance\n",
    "Knowing about the feature importance is quite necessary as it shows that how much weightage each feature provides in the model building phase.\n",
    "\n"
   ]
  },
  {
   "cell_type": "markdown",
   "id": "22e1f10f",
   "metadata": {},
   "source": [
    "#Getting feature importances"
   ]
  },
  {
   "cell_type": "code",
   "execution_count": null,
   "id": "d22b269a",
   "metadata": {},
   "outputs": [],
   "source": [
    "rfc.feature_importances_"
   ]
  },
  {
   "cell_type": "markdown",
   "id": "000cc31a",
   "metadata": {},
   "source": [
    "# Visualization of the same."
   ]
  },
  {
   "cell_type": "code",
   "execution_count": null,
   "id": "5a9de1db",
   "metadata": {},
   "outputs": [],
   "source": [
    "# Plotting feature importances"
   ]
  },
  {
   "cell_type": "code",
   "execution_count": null,
   "id": "b1f34524",
   "metadata": {},
   "outputs": [],
   "source": [
    "(pd.Series(rfc.feature_importances_, index=X.columns).plot(kind='barh'))"
   ]
  },
  {
   "cell_type": "markdown",
   "id": "15885525",
   "metadata": {},
   "source": [
    "# Saving Model Random Forest"
   ]
  },
  {
   "cell_type": "code",
   "execution_count": null,
   "id": "6a43400d",
   "metadata": {},
   "outputs": [],
   "source": [
    "import pickle\n",
    "\n",
    "# Firstly we will be using the dump() function to save the model using pickle\n",
    "saved_model = pickle.dumps(rfc)\n",
    "\n",
    "# Then we will be loading that saved model\n",
    "rfc_from_pickle = pickle.loads(saved_model)\n",
    "\n",
    "# lastly, after loading that model we will use this to make predictions\n",
    "rfc_from_pickle.predict(X_test)"
   ]
  },
  {
   "cell_type": "code",
   "execution_count": null,
   "id": "8c769023",
   "metadata": {},
   "outputs": [],
   "source": [
    "# This command will basically import all the modules from pycaret that are necessary for classification tasks\n",
    "from pycaret.classification import *\n",
    "# Setting up the classifier\n",
    "# Pass the complete dataset as data and the featured to be predicted as target\n",
    "clf=setup(data=data,target='Diagnosis')"
   ]
  },
  {
   "cell_type": "code",
   "execution_count": null,
   "id": "5c5dac75",
   "metadata": {},
   "outputs": [],
   "source": [
    "data.head(100)"
   ]
  },
  {
   "cell_type": "code",
   "execution_count": null,
   "id": "853ff66d",
   "metadata": {},
   "outputs": [],
   "source": [
    "data.tail()"
   ]
  },
  {
   "cell_type": "markdown",
   "id": "54c574e2",
   "metadata": {},
   "source": [
    "# The prediction is given by the following ;\n",
    "0. No Hypertension and Diabetes.\n",
    "1. Hypertension value.\n",
    "2. Hypertension and Diabetes\n",
    "3. Diabetes"
   ]
  },
  {
   "cell_type": "code",
   "execution_count": null,
   "id": "31403168",
   "metadata": {},
   "outputs": [],
   "source": [
    "rfc.predict([[0,51,274,0,8,67.0,27.53,91,145]])"
   ]
  },
  {
   "cell_type": "code",
   "execution_count": null,
   "id": "15798143",
   "metadata": {},
   "outputs": [],
   "source": [
    "rfc.predict([[0,71,62,0,4,51.0,23.92,66,126]])"
   ]
  },
  {
   "cell_type": "code",
   "execution_count": null,
   "id": "7a5eace8",
   "metadata": {},
   "outputs": [],
   "source": [
    "rfc.predict([[0,34,125,0,7,34.98,20.21,98,231]])"
   ]
  },
  {
   "cell_type": "code",
   "execution_count": null,
   "id": "ecd3d7fb",
   "metadata": {},
   "outputs": [],
   "source": [
    "rfc.predict([[1,25,45,0,7,21.34,37.90,72,92]])"
   ]
  },
  {
   "cell_type": "code",
   "execution_count": null,
   "id": "b0cd0bd8",
   "metadata": {},
   "outputs": [],
   "source": []
  }
 ],
 "metadata": {
  "kernelspec": {
   "display_name": "Python 3 (ipykernel)",
   "language": "python",
   "name": "python3"
  },
  "language_info": {
   "codemirror_mode": {
    "name": "ipython",
    "version": 3
   },
   "file_extension": ".py",
   "mimetype": "text/x-python",
   "name": "python",
   "nbconvert_exporter": "python",
   "pygments_lexer": "ipython3",
   "version": "3.9.12"
  }
 },
 "nbformat": 4,
 "nbformat_minor": 5
}
