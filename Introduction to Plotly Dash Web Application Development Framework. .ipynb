{
 "cells": [
  {
   "cell_type": "code",
   "execution_count": 1,
   "id": "96d56ef2",
   "metadata": {},
   "outputs": [
    {
     "name": "stdout",
     "output_type": "stream",
     "text": [
      "Requirement already satisfied: dash in c:\\users\\ken bwire\\anaconda3\\lib\\site-packages (2.6.1)\n",
      "Requirement already satisfied: flask-compress in c:\\users\\ken bwire\\anaconda3\\lib\\site-packages (from dash) (1.12)\n",
      "Requirement already satisfied: dash-table==5.0.0 in c:\\users\\ken bwire\\anaconda3\\lib\\site-packages (from dash) (5.0.0)\n",
      "Requirement already satisfied: dash-html-components==2.0.0 in c:\\users\\ken bwire\\anaconda3\\lib\\site-packages (from dash) (2.0.0)\n",
      "Requirement already satisfied: Flask>=1.0.4 in c:\\users\\ken bwire\\anaconda3\\lib\\site-packages (from dash) (1.1.2)\n",
      "Requirement already satisfied: plotly>=5.0.0 in c:\\users\\ken bwire\\anaconda3\\lib\\site-packages (from dash) (5.6.0)\n",
      "Requirement already satisfied: dash-core-components==2.0.0 in c:\\users\\ken bwire\\anaconda3\\lib\\site-packages (from dash) (2.0.0)\n",
      "Requirement already satisfied: click>=5.1 in c:\\users\\ken bwire\\anaconda3\\lib\\site-packages (from Flask>=1.0.4->dash) (8.0.4)\n",
      "Requirement already satisfied: itsdangerous>=0.24 in c:\\users\\ken bwire\\anaconda3\\lib\\site-packages (from Flask>=1.0.4->dash) (2.0.1)\n",
      "Requirement already satisfied: Werkzeug>=0.15 in c:\\users\\ken bwire\\anaconda3\\lib\\site-packages (from Flask>=1.0.4->dash) (2.0.3)\n",
      "Requirement already satisfied: Jinja2>=2.10.1 in c:\\users\\ken bwire\\anaconda3\\lib\\site-packages (from Flask>=1.0.4->dash) (2.11.3)\n",
      "Requirement already satisfied: colorama in c:\\users\\ken bwire\\anaconda3\\lib\\site-packages (from click>=5.1->Flask>=1.0.4->dash) (0.4.4)\n",
      "Requirement already satisfied: MarkupSafe>=0.23 in c:\\users\\ken bwire\\anaconda3\\lib\\site-packages (from Jinja2>=2.10.1->Flask>=1.0.4->dash) (2.0.1)\n",
      "Requirement already satisfied: tenacity>=6.2.0 in c:\\users\\ken bwire\\anaconda3\\lib\\site-packages (from plotly>=5.0.0->dash) (8.0.1)\n",
      "Requirement already satisfied: six in c:\\users\\ken bwire\\anaconda3\\lib\\site-packages (from plotly>=5.0.0->dash) (1.16.0)\n",
      "Requirement already satisfied: brotli in c:\\users\\ken bwire\\anaconda3\\lib\\site-packages (from flask-compress->dash) (1.0.9)\n",
      "Requirement already satisfied: dash-renderer in c:\\users\\ken bwire\\anaconda3\\lib\\site-packages (1.9.1)\n",
      "Requirement already satisfied: dash_html_components in c:\\users\\ken bwire\\anaconda3\\lib\\site-packages (2.0.0)\n",
      "Requirement already satisfied: dash_core_components in c:\\users\\ken bwire\\anaconda3\\lib\\site-packages (2.0.0)\n"
     ]
    }
   ],
   "source": [
    "!pip install dash\n",
    "!pip install dash-renderer\n",
    "!pip install dash_html_components\n",
    "!pip install dash_core_components"
   ]
  },
  {
   "cell_type": "code",
   "execution_count": 2,
   "id": "f2c17c52",
   "metadata": {},
   "outputs": [
    {
     "name": "stderr",
     "output_type": "stream",
     "text": [
      "C:\\Users\\Ken Bwire\\AppData\\Local\\Temp\\ipykernel_26996\\3604965677.py:2: UserWarning: \n",
      "The dash_core_components package is deprecated. Please replace\n",
      "`import dash_core_components as dcc` with `from dash import dcc`\n",
      "  import dash_core_components as dcc\n",
      "C:\\Users\\Ken Bwire\\AppData\\Local\\Temp\\ipykernel_26996\\3604965677.py:3: UserWarning: \n",
      "The dash_html_components package is deprecated. Please replace\n",
      "`import dash_html_components as html` with `from dash import html`\n",
      "  import dash_html_components as html\n"
     ]
    }
   ],
   "source": [
    "import dash\n",
    "import dash_core_components as dcc\n",
    "import dash_html_components as html\n",
    "import plotly.graph_objs as go\n",
    "import pandas as pd\n",
    "import numpy as np"
   ]
  },
  {
   "cell_type": "code",
   "execution_count": 3,
   "id": "240b866e",
   "metadata": {},
   "outputs": [],
   "source": [
    "app=dash.Dash()"
   ]
  },
  {
   "cell_type": "code",
   "execution_count": 4,
   "id": "3ea75c8f",
   "metadata": {},
   "outputs": [
    {
     "data": {
      "text/html": [
       "<div>\n",
       "<style scoped>\n",
       "    .dataframe tbody tr th:only-of-type {\n",
       "        vertical-align: middle;\n",
       "    }\n",
       "\n",
       "    .dataframe tbody tr th {\n",
       "        vertical-align: top;\n",
       "    }\n",
       "\n",
       "    .dataframe thead th {\n",
       "        text-align: right;\n",
       "    }\n",
       "</style>\n",
       "<table border=\"1\" class=\"dataframe\">\n",
       "  <thead>\n",
       "    <tr style=\"text-align: right;\">\n",
       "      <th></th>\n",
       "      <th>sex</th>\n",
       "      <th>Age</th>\n",
       "      <th>Location</th>\n",
       "      <th>Frequency of clinic visit</th>\n",
       "      <th>Education</th>\n",
       "      <th>Weight</th>\n",
       "      <th>BMI</th>\n",
       "      <th>BP Diastolic</th>\n",
       "      <th>BP Systolic</th>\n",
       "      <th>Diagnosis</th>\n",
       "    </tr>\n",
       "  </thead>\n",
       "  <tbody>\n",
       "    <tr>\n",
       "      <th>0</th>\n",
       "      <td>Male</td>\n",
       "      <td>65</td>\n",
       "      <td>makueni</td>\n",
       "      <td>1</td>\n",
       "      <td>yes</td>\n",
       "      <td>85.0</td>\n",
       "      <td>31.22</td>\n",
       "      <td>80</td>\n",
       "      <td>125</td>\n",
       "      <td>HTN,DM</td>\n",
       "    </tr>\n",
       "    <tr>\n",
       "      <th>1</th>\n",
       "      <td>Female</td>\n",
       "      <td>68</td>\n",
       "      <td>makueni</td>\n",
       "      <td>0</td>\n",
       "      <td>no</td>\n",
       "      <td>67.0</td>\n",
       "      <td>24.60</td>\n",
       "      <td>88</td>\n",
       "      <td>129</td>\n",
       "      <td>HTN,DM</td>\n",
       "    </tr>\n",
       "    <tr>\n",
       "      <th>2</th>\n",
       "      <td>Male</td>\n",
       "      <td>70</td>\n",
       "      <td>makueni</td>\n",
       "      <td>0</td>\n",
       "      <td>yes</td>\n",
       "      <td>70.0</td>\n",
       "      <td>24.80</td>\n",
       "      <td>79</td>\n",
       "      <td>130</td>\n",
       "      <td>HTN,DM</td>\n",
       "    </tr>\n",
       "    <tr>\n",
       "      <th>3</th>\n",
       "      <td>Female</td>\n",
       "      <td>41</td>\n",
       "      <td>kibwezi west</td>\n",
       "      <td>0</td>\n",
       "      <td>yes</td>\n",
       "      <td>82.0</td>\n",
       "      <td>30.11</td>\n",
       "      <td>73</td>\n",
       "      <td>112</td>\n",
       "      <td>HTN,DM</td>\n",
       "    </tr>\n",
       "    <tr>\n",
       "      <th>4</th>\n",
       "      <td>Female</td>\n",
       "      <td>32</td>\n",
       "      <td>makueni</td>\n",
       "      <td>0</td>\n",
       "      <td>yes</td>\n",
       "      <td>75.0</td>\n",
       "      <td>31.62</td>\n",
       "      <td>76</td>\n",
       "      <td>105</td>\n",
       "      <td>DM</td>\n",
       "    </tr>\n",
       "  </tbody>\n",
       "</table>\n",
       "</div>"
      ],
      "text/plain": [
       "      sex  Age      Location  Frequency of clinic visit Education  Weight  \\\n",
       "0    Male   65       makueni                          1       yes    85.0   \n",
       "1  Female   68       makueni                          0        no    67.0   \n",
       "2    Male   70       makueni                          0       yes    70.0   \n",
       "3  Female   41  kibwezi west                          0       yes    82.0   \n",
       "4  Female   32       makueni                          0       yes    75.0   \n",
       "\n",
       "     BMI  BP Diastolic  BP Systolic Diagnosis  \n",
       "0  31.22            80          125    HTN,DM  \n",
       "1  24.60            88          129    HTN,DM  \n",
       "2  24.80            79          130    HTN,DM  \n",
       "3  30.11            73          112    HTN,DM  \n",
       "4  31.62            76          105        DM  "
      ]
     },
     "execution_count": 4,
     "metadata": {},
     "output_type": "execute_result"
    }
   ],
   "source": [
    "Group7=pd.read_csv(\"C:/Users/Ken Bwire/Desktop/Data analytics/Masters Study/Year 2  SEM 1/Visual Analytics MDA 5302/Data for Diabetes and Hypertension enrolled.csv\")\n",
    "Group7.head()"
   ]
  },
  {
   "cell_type": "code",
   "execution_count": 5,
   "id": "5335a91d",
   "metadata": {},
   "outputs": [
    {
     "ename": "SyntaxError",
     "evalue": "invalid syntax (3860597418.py, line 24)",
     "output_type": "error",
     "traceback": [
      "\u001b[1;36m  Input \u001b[1;32mIn [5]\u001b[1;36m\u001b[0m\n\u001b[1;33m    dcc.Graph(\u001b[0m\n\u001b[1;37m    ^\u001b[0m\n\u001b[1;31mSyntaxError\u001b[0m\u001b[1;31m:\u001b[0m invalid syntax\n"
     ]
    }
   ],
   "source": [
    "app.layout=html.Div([\n",
    "    html.H1(children='Group 7-Makueni NCD!!!',\n",
    "           style={\n",
    "               'textAlign':'center',\n",
    "               'color':'#ff0000'\n",
    "           }\n",
    "           ),\n",
    "    dcc.Graph(\n",
    "        id='Sampalechart',\n",
    "        figure={\n",
    "            \"data\":[\n",
    "                go.Bar(\n",
    "                x=Group7.Diagnosis,\n",
    "                y=Group7.Location,\n",
    "                mode=\"asterisks\"\n",
    "                )\n",
    "            ],\n",
    "            \"layout\":go.Layout(\n",
    "                    title=\"Scatter of diagnosis and Education\",\n",
    "                xaxis={\"title\":'Diagnosis'},\n",
    "                yaxis={\"title\":'Location'}\n",
    "            )\n",
    "    \n",
    "    dcc.Graph(\n",
    "     id=\"Scatter_chart\",\n",
    "        figure={\n",
    "            \"data\":[ \n",
    "                go.Scatter(\n",
    "                    x= Group7.sex,\n",
    "                    y= Group7.Age,\n",
    "                    mode=\"markers\"\n",
    "                )\n",
    "            ],\n",
    "            \"layout\":go.Layout(\n",
    "                    title=\"Scatter of diagnosis and Education\",\n",
    "                xaxis={\"title\":'sex'},\n",
    "                yaxis={\"title\":'Age'}\n",
    "                )\n",
    "        }\n",
    "    )\n",
    "            ])"
   ]
  },
  {
   "cell_type": "code",
   "execution_count": null,
   "id": "23788e58",
   "metadata": {},
   "outputs": [],
   "source": [
    "if __name__=='__main__':\n",
    "    app.run_server(port=4050)"
   ]
  }
 ],
 "metadata": {
  "kernelspec": {
   "display_name": "Python 3 (ipykernel)",
   "language": "python",
   "name": "python3"
  },
  "language_info": {
   "codemirror_mode": {
    "name": "ipython",
    "version": 3
   },
   "file_extension": ".py",
   "mimetype": "text/x-python",
   "name": "python",
   "nbconvert_exporter": "python",
   "pygments_lexer": "ipython3",
   "version": "3.9.12"
  }
 },
 "nbformat": 4,
 "nbformat_minor": 5
}
